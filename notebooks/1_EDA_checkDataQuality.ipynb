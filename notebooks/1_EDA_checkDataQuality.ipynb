{
 "cells": [
  {
   "cell_type": "code",
   "execution_count": 18,
   "metadata": {},
   "outputs": [],
   "source": [
    "import pandas as pd\n",
    "import numpy as np\n",
    "import random\n",
    "\n",
    "# Define column names\n",
    "columns = [\n",
    "    \"Car_Type\", \"Brand\", \"Model\", \"Year\", \"Mileage\", \"Fuel_Type\", \"Transmission\", \"Color\",\n",
    "    \"Owner\", \"Price\", \"Engine_Size\", \"Seats\", \"Doors\", \"Location\", \"High_Missing_Col\"\n",
    "]\n",
    "\n",
    "# Generate random data\n",
    "np.random.seed(42)\n",
    "\n",
    "# Define categorical columns with inconsistencies\n",
    "car_types = [\"Sedan\", \"sedan\", \"SEDN\", \"SUV\", \"suv\", \"Truck\", \"truk\", \"Convertible\", \"Hatchback\"]\n",
    "brands = [\"Toyota\", \"Honda\", \"Ford\", \"BMW\", \"Mercedes\", \"Audi\"]\n",
    "fuel_types = [\"Petrol\", \"Diesel\", \"Electric\", \"Hybrid\"]\n",
    "transmissions = [\"Manual\", \"Automatic\"]\n",
    "colors = [\"Red\", \"Blue\", \"Black\", \"White\", \"Grey\"]\n",
    "locations = [\"New York\", \"Los Angeles\", \"Chicago\", \"Houston\", \"Miami\"]\n",
    "\n",
    "# Create DataFrame with 30 rows\n",
    "data = []\n",
    "for _ in range(30):\n",
    "    row = [\n",
    "        random.choice(car_types),\n",
    "        random.choice(brands),\n",
    "        f\"Model_{random.randint(1, 10)}\",\n",
    "        random.randint(2000, 2023),\n",
    "        random.randint(10000, 200000),  # Mileage\n",
    "        random.choice(fuel_types),\n",
    "        random.choice(transmissions),\n",
    "        random.choice(colors),\n",
    "        random.randint(1, 5),  # Owner count\n",
    "        random.choice([\"10000\", 15000, -5000, 20000, \"25000\", \"invalid\"]),  # Price issues\n",
    "        round(random.uniform(1.0, 5.0), 1),  # Engine size\n",
    "        random.randint(2, 7),  # Seats\n",
    "        random.randint(2, 5),  # Doors\n",
    "        random.choice(locations),\n",
    "        np.nan if random.random() < 0.7 else random.choice([\"A\", \"B\", \"C\"])  # High missing values\n",
    "    ]\n",
    "    data.append(row)\n",
    "\n",
    "# Create DataFrame\n",
    "df = pd.DataFrame(data, columns=columns)\n",
    "\n",
    "# Introduce missing values randomly\n",
    "for col in random.sample(columns[:-1], 4):  # Excluding High_Missing_Col\n",
    "    df.loc[df.sample(frac=0.2).index, col] = np.nan\n",
    "\n",
    "# Introduce duplicate values\n",
    "df = pd.concat([df, df.iloc[:3]], ignore_index=True)  # Adding some duplicate rows\n",
    "\n",
    "# Convert one column to object type but containing all integers\n",
    "df[\"Integer_As_Object\"] = df[\"Year\"].astype(str)"
   ]
  },
  {
   "cell_type": "code",
   "execution_count": 45,
   "metadata": {},
   "outputs": [],
   "source": [
    "import pandas as pd\n",
    "import numpy as np\n",
    "import random\n",
    "\n",
    "# Set fixed seed for reproducibility\n",
    "np.random.seed(42)\n",
    "random.seed(42)\n",
    "\n",
    "# Define column names\n",
    "columns = [\n",
    "    \"Car_Type\", \"Brand\", \"Model\", \"Year\", \"Mileage\", \"Fuel_Type\", \"Transmission\", \"Color\",\n",
    "    \"Owner\", \"Price\", \"Engine_Size\", \"Seats\", \"Doors\", \"Location\", \"High_Missing_Col\"\n",
    "]\n",
    "\n",
    "# Define categorical columns with inconsistencies\n",
    "car_types = [\"Sedan\", \"sedan\", \"SEDN\", \"SUV\", \"suv\", \"Truck\", \"truk\", \"Convertible\", \"Hatchback\"]\n",
    "brands = [\"Toyota\", \"Honda\", \"Ford\", \"BMW\", \"Mercedes\", \"Audi\"]\n",
    "fuel_types = [\"Petrol\", \"Diesel\", \"Electric\", \"Hybrid\"]\n",
    "transmissions = [\"Manual\", \"Automatic\"]\n",
    "colors = [\"Red\", \"Blue\", \"Black\", \"White\", \"Grey\"]\n",
    "locations = [\"New York\", \"Los Angeles\", \"Chicago\", \"Houston\", \"Miami\"]\n",
    "\n",
    "# Create static lists of random values for reproducibility\n",
    "car_type_choices = random.choices(car_types, k=30)\n",
    "brand_choices = random.choices(brands, k=30)\n",
    "model_choices = [f\"Model_{i}\" for i in range(1, 31)]\n",
    "year_choices = np.random.choice(range(2000, 2024), 30, replace=True)\n",
    "mileage_choices = np.random.choice(range(10000, 200000), 30, replace=True)\n",
    "fuel_choices = random.choices(fuel_types, k=30)\n",
    "transmission_choices = random.choices(transmissions, k=30)\n",
    "color_choices = random.choices(colors, k=30)\n",
    "owner_choices = np.random.choice(range(1, 6), 30, replace=True)\n",
    "price_choices = random.choices([\"10000\", 15000, -5000, 20000, \"25000\", \"invalid\"], k=30)\n",
    "engine_choices = np.round(np.random.uniform(1.0, 5.0, 30), 1)\n",
    "seats_choices = np.random.choice(range(2, 8), 30, replace=True)\n",
    "doors_choices = np.random.choice(range(2, 6), 30, replace=True)\n",
    "location_choices = random.choices(locations, k=30)\n",
    "high_missing_choices = [np.nan if i < 21 else random.choice([\"A\", \"B\", \"C\"]) for i in range(30)]  # 70% missing\n",
    "\n",
    "# Create DataFrame\n",
    "df = pd.DataFrame({\n",
    "    \"Car_Type\": car_type_choices,\n",
    "    \"Brand\": brand_choices,\n",
    "    \"Model\": model_choices,\n",
    "    \"Year\": year_choices,\n",
    "    \"Mileage\": mileage_choices,\n",
    "    \"Fuel_Type\": fuel_choices,\n",
    "    \"Transmission\": transmission_choices,\n",
    "    \"Color\": color_choices,\n",
    "    \"Owner\": owner_choices,\n",
    "    \"Price\": price_choices,\n",
    "    \"Engine_Size\": engine_choices,\n",
    "    \"Seats\": seats_choices,\n",
    "    \"Doors\": doors_choices,\n",
    "    \"Location\": location_choices,\n",
    "    \"High_Missing_Col\": high_missing_choices\n",
    "})\n",
    "\n",
    "# Introduce missing values randomly in selected columns\n",
    "missing_cols = random.sample(columns[:-1], 4)  # Excluding High_Missing_Col\n",
    "for col in missing_cols:\n",
    "    missing_indices = random.sample(range(30), 6)  # 20% missing values\n",
    "    df.loc[missing_indices, col] = np.nan\n",
    "\n",
    "# Introduce duplicate values\n",
    "df = pd.concat([df, df.iloc[:3]], ignore_index=True)  # Adding duplicate rows\n",
    "\n",
    "# Convert one column to object type but containing only integers\n",
    "df[\"Integer_As_Object\"] = df[\"Year\"].astype(str)\n",
    "\n",
    "\n"
   ]
  },
  {
   "cell_type": "code",
   "execution_count": 46,
   "metadata": {},
   "outputs": [
    {
     "data": {
      "text/html": [
       "<div>\n",
       "<style scoped>\n",
       "    .dataframe tbody tr th:only-of-type {\n",
       "        vertical-align: middle;\n",
       "    }\n",
       "\n",
       "    .dataframe tbody tr th {\n",
       "        vertical-align: top;\n",
       "    }\n",
       "\n",
       "    .dataframe thead th {\n",
       "        text-align: right;\n",
       "    }\n",
       "</style>\n",
       "<table border=\"1\" class=\"dataframe\">\n",
       "  <thead>\n",
       "    <tr style=\"text-align: right;\">\n",
       "      <th></th>\n",
       "      <th>Car_Type</th>\n",
       "      <th>Brand</th>\n",
       "      <th>Model</th>\n",
       "      <th>Year</th>\n",
       "      <th>Mileage</th>\n",
       "      <th>Fuel_Type</th>\n",
       "      <th>Transmission</th>\n",
       "      <th>Color</th>\n",
       "      <th>Owner</th>\n",
       "      <th>Price</th>\n",
       "      <th>Engine_Size</th>\n",
       "      <th>Seats</th>\n",
       "      <th>Doors</th>\n",
       "      <th>Location</th>\n",
       "      <th>High_Missing_Col</th>\n",
       "      <th>Integer_As_Object</th>\n",
       "    </tr>\n",
       "  </thead>\n",
       "  <tbody>\n",
       "    <tr>\n",
       "      <th>0</th>\n",
       "      <td>Truck</td>\n",
       "      <td>Mercedes</td>\n",
       "      <td>Model_1</td>\n",
       "      <td>2006.0</td>\n",
       "      <td>166730.0</td>\n",
       "      <td>Hybrid</td>\n",
       "      <td>Manual</td>\n",
       "      <td>White</td>\n",
       "      <td>4</td>\n",
       "      <td>invalid</td>\n",
       "      <td>2.2</td>\n",
       "      <td>3</td>\n",
       "      <td>5</td>\n",
       "      <td>Houston</td>\n",
       "      <td>NaN</td>\n",
       "      <td>2006.0</td>\n",
       "    </tr>\n",
       "    <tr>\n",
       "      <th>1</th>\n",
       "      <td>Sedan</td>\n",
       "      <td>Mercedes</td>\n",
       "      <td>NaN</td>\n",
       "      <td>NaN</td>\n",
       "      <td>94478.0</td>\n",
       "      <td>Electric</td>\n",
       "      <td>Automatic</td>\n",
       "      <td>NaN</td>\n",
       "      <td>5</td>\n",
       "      <td>20000</td>\n",
       "      <td>1.7</td>\n",
       "      <td>3</td>\n",
       "      <td>5</td>\n",
       "      <td>Houston</td>\n",
       "      <td>NaN</td>\n",
       "      <td>nan</td>\n",
       "    </tr>\n",
       "    <tr>\n",
       "      <th>2</th>\n",
       "      <td>SEDN</td>\n",
       "      <td>BMW</td>\n",
       "      <td>Model_3</td>\n",
       "      <td>2014.0</td>\n",
       "      <td>NaN</td>\n",
       "      <td>Electric</td>\n",
       "      <td>Automatic</td>\n",
       "      <td>White</td>\n",
       "      <td>3</td>\n",
       "      <td>-5000</td>\n",
       "      <td>1.1</td>\n",
       "      <td>5</td>\n",
       "      <td>3</td>\n",
       "      <td>Miami</td>\n",
       "      <td>NaN</td>\n",
       "      <td>2014.0</td>\n",
       "    </tr>\n",
       "    <tr>\n",
       "      <th>3</th>\n",
       "      <td>SEDN</td>\n",
       "      <td>Audi</td>\n",
       "      <td>Model_4</td>\n",
       "      <td>2010.0</td>\n",
       "      <td>159503.0</td>\n",
       "      <td>Electric</td>\n",
       "      <td>Manual</td>\n",
       "      <td>Black</td>\n",
       "      <td>1</td>\n",
       "      <td>20000</td>\n",
       "      <td>2.7</td>\n",
       "      <td>6</td>\n",
       "      <td>3</td>\n",
       "      <td>New York</td>\n",
       "      <td>NaN</td>\n",
       "      <td>2010.0</td>\n",
       "    </tr>\n",
       "    <tr>\n",
       "      <th>4</th>\n",
       "      <td>truk</td>\n",
       "      <td>Ford</td>\n",
       "      <td>Model_5</td>\n",
       "      <td>2007.0</td>\n",
       "      <td>140523.0</td>\n",
       "      <td>Hybrid</td>\n",
       "      <td>Manual</td>\n",
       "      <td>Red</td>\n",
       "      <td>4</td>\n",
       "      <td>10000</td>\n",
       "      <td>2.6</td>\n",
       "      <td>4</td>\n",
       "      <td>4</td>\n",
       "      <td>Chicago</td>\n",
       "      <td>NaN</td>\n",
       "      <td>2007.0</td>\n",
       "    </tr>\n",
       "  </tbody>\n",
       "</table>\n",
       "</div>"
      ],
      "text/plain": [
       "  Car_Type     Brand    Model    Year   Mileage Fuel_Type Transmission  Color  \\\n",
       "0    Truck  Mercedes  Model_1  2006.0  166730.0    Hybrid       Manual  White   \n",
       "1    Sedan  Mercedes      NaN     NaN   94478.0  Electric    Automatic    NaN   \n",
       "2     SEDN       BMW  Model_3  2014.0       NaN  Electric    Automatic  White   \n",
       "3     SEDN      Audi  Model_4  2010.0  159503.0  Electric       Manual  Black   \n",
       "4     truk      Ford  Model_5  2007.0  140523.0    Hybrid       Manual    Red   \n",
       "\n",
       "   Owner    Price  Engine_Size  Seats  Doors  Location High_Missing_Col  \\\n",
       "0      4  invalid          2.2      3      5   Houston              NaN   \n",
       "1      5    20000          1.7      3      5   Houston              NaN   \n",
       "2      3    -5000          1.1      5      3     Miami              NaN   \n",
       "3      1    20000          2.7      6      3  New York              NaN   \n",
       "4      4    10000          2.6      4      4   Chicago              NaN   \n",
       "\n",
       "  Integer_As_Object  \n",
       "0            2006.0  \n",
       "1               nan  \n",
       "2            2014.0  \n",
       "3            2010.0  \n",
       "4            2007.0  "
      ]
     },
     "execution_count": 46,
     "metadata": {},
     "output_type": "execute_result"
    }
   ],
   "source": [
    "df.head()"
   ]
  },
  {
   "cell_type": "markdown",
   "metadata": {},
   "source": [
    "## 1. check missing values   🎀🎀🎀🎀"
   ]
  },
  {
   "cell_type": "code",
   "execution_count": 47,
   "metadata": {},
   "outputs": [
    {
     "data": {
      "text/plain": [
       "(33, 16)"
      ]
     },
     "execution_count": 47,
     "metadata": {},
     "output_type": "execute_result"
    }
   ],
   "source": [
    "df.shape"
   ]
  },
  {
   "cell_type": "code",
   "execution_count": 48,
   "metadata": {},
   "outputs": [
    {
     "data": {
      "text/plain": [
       "Car_Type              0\n",
       "Brand                 0\n",
       "Model                 7\n",
       "Year                  7\n",
       "Mileage               7\n",
       "Fuel_Type             0\n",
       "Transmission          0\n",
       "Color                 7\n",
       "Owner                 0\n",
       "Price                 0\n",
       "Engine_Size           0\n",
       "Seats                 0\n",
       "Doors                 0\n",
       "Location              0\n",
       "High_Missing_Col     24\n",
       "Integer_As_Object     0\n",
       "dtype: int64"
      ]
     },
     "execution_count": 48,
     "metadata": {},
     "output_type": "execute_result"
    }
   ],
   "source": [
    "df.isnull().sum()"
   ]
  },
  {
   "cell_type": "code",
   "execution_count": 49,
   "metadata": {},
   "outputs": [
    {
     "data": {
      "text/plain": [
       "Car_Type              0.000000\n",
       "Brand                 0.000000\n",
       "Model                21.212121\n",
       "Year                 21.212121\n",
       "Mileage              21.212121\n",
       "Fuel_Type             0.000000\n",
       "Transmission          0.000000\n",
       "Color                21.212121\n",
       "Owner                 0.000000\n",
       "Price                 0.000000\n",
       "Engine_Size           0.000000\n",
       "Seats                 0.000000\n",
       "Doors                 0.000000\n",
       "Location              0.000000\n",
       "High_Missing_Col     72.727273\n",
       "Integer_As_Object     0.000000\n",
       "dtype: float64"
      ]
     },
     "execution_count": 49,
     "metadata": {},
     "output_type": "execute_result"
    }
   ],
   "source": [
    "(df.isnull().sum()/df.shape[0])*100        # percentage => (obtain/total)*100"
   ]
  },
  {
   "cell_type": "code",
   "execution_count": null,
   "metadata": {},
   "outputs": [
    {
     "data": {
      "text/plain": [
       "array([nan, 'B', 'C'], dtype=object)"
      ]
     },
     "execution_count": 50,
     "metadata": {},
     "output_type": "execute_result"
    }
   ],
   "source": [
    "# df[\"Price\"].unique  => in this we understand which value is string, nan, and integer.\n",
    "df[\"High_Missing_Col\"].unique() "
   ]
  },
  {
   "cell_type": "code",
   "execution_count": 51,
   "metadata": {},
   "outputs": [
    {
     "data": {
      "text/plain": [
       "High_Missing_Col\n",
       "C    5\n",
       "B    4\n",
       "Name: count, dtype: int64"
      ]
     },
     "execution_count": 51,
     "metadata": {},
     "output_type": "execute_result"
    }
   ],
   "source": [
    "df[\"High_Missing_Col\"].value_counts()"
   ]
  },
  {
   "cell_type": "code",
   "execution_count": 52,
   "metadata": {},
   "outputs": [
    {
     "data": {
      "text/plain": [
       "np.int64(24)"
      ]
     },
     "execution_count": 52,
     "metadata": {},
     "output_type": "execute_result"
    }
   ],
   "source": [
    "df[\"High_Missing_Col\"].isnull().sum()"
   ]
  },
  {
   "cell_type": "code",
   "execution_count": 53,
   "metadata": {},
   "outputs": [],
   "source": [
    "# total rows is 33 and we see that in column \"High_Missing_Col\" have 33 rows => 5C + 4B + 24NAN = 33"
   ]
  },
  {
   "cell_type": "code",
   "execution_count": 54,
   "metadata": {},
   "outputs": [],
   "source": [
    "# we see that in column \"High_Missing_Col\" that 72% missing values so we need to drop this column.\n",
    "df.drop(columns=[\"High_Missing_Col\"], inplace= True)"
   ]
  },
  {
   "cell_type": "code",
   "execution_count": 55,
   "metadata": {},
   "outputs": [
    {
     "data": {
      "text/html": [
       "<div>\n",
       "<style scoped>\n",
       "    .dataframe tbody tr th:only-of-type {\n",
       "        vertical-align: middle;\n",
       "    }\n",
       "\n",
       "    .dataframe tbody tr th {\n",
       "        vertical-align: top;\n",
       "    }\n",
       "\n",
       "    .dataframe thead th {\n",
       "        text-align: right;\n",
       "    }\n",
       "</style>\n",
       "<table border=\"1\" class=\"dataframe\">\n",
       "  <thead>\n",
       "    <tr style=\"text-align: right;\">\n",
       "      <th></th>\n",
       "      <th>Car_Type</th>\n",
       "      <th>Brand</th>\n",
       "      <th>Model</th>\n",
       "      <th>Year</th>\n",
       "      <th>Mileage</th>\n",
       "      <th>Fuel_Type</th>\n",
       "      <th>Transmission</th>\n",
       "      <th>Color</th>\n",
       "      <th>Owner</th>\n",
       "      <th>Price</th>\n",
       "      <th>Engine_Size</th>\n",
       "      <th>Seats</th>\n",
       "      <th>Doors</th>\n",
       "      <th>Location</th>\n",
       "      <th>Integer_As_Object</th>\n",
       "    </tr>\n",
       "  </thead>\n",
       "  <tbody>\n",
       "    <tr>\n",
       "      <th>0</th>\n",
       "      <td>Truck</td>\n",
       "      <td>Mercedes</td>\n",
       "      <td>Model_1</td>\n",
       "      <td>2006.0</td>\n",
       "      <td>166730.0</td>\n",
       "      <td>Hybrid</td>\n",
       "      <td>Manual</td>\n",
       "      <td>White</td>\n",
       "      <td>4</td>\n",
       "      <td>invalid</td>\n",
       "      <td>2.2</td>\n",
       "      <td>3</td>\n",
       "      <td>5</td>\n",
       "      <td>Houston</td>\n",
       "      <td>2006.0</td>\n",
       "    </tr>\n",
       "    <tr>\n",
       "      <th>1</th>\n",
       "      <td>Sedan</td>\n",
       "      <td>Mercedes</td>\n",
       "      <td>NaN</td>\n",
       "      <td>NaN</td>\n",
       "      <td>94478.0</td>\n",
       "      <td>Electric</td>\n",
       "      <td>Automatic</td>\n",
       "      <td>NaN</td>\n",
       "      <td>5</td>\n",
       "      <td>20000</td>\n",
       "      <td>1.7</td>\n",
       "      <td>3</td>\n",
       "      <td>5</td>\n",
       "      <td>Houston</td>\n",
       "      <td>nan</td>\n",
       "    </tr>\n",
       "    <tr>\n",
       "      <th>2</th>\n",
       "      <td>SEDN</td>\n",
       "      <td>BMW</td>\n",
       "      <td>Model_3</td>\n",
       "      <td>2014.0</td>\n",
       "      <td>NaN</td>\n",
       "      <td>Electric</td>\n",
       "      <td>Automatic</td>\n",
       "      <td>White</td>\n",
       "      <td>3</td>\n",
       "      <td>-5000</td>\n",
       "      <td>1.1</td>\n",
       "      <td>5</td>\n",
       "      <td>3</td>\n",
       "      <td>Miami</td>\n",
       "      <td>2014.0</td>\n",
       "    </tr>\n",
       "    <tr>\n",
       "      <th>3</th>\n",
       "      <td>SEDN</td>\n",
       "      <td>Audi</td>\n",
       "      <td>Model_4</td>\n",
       "      <td>2010.0</td>\n",
       "      <td>159503.0</td>\n",
       "      <td>Electric</td>\n",
       "      <td>Manual</td>\n",
       "      <td>Black</td>\n",
       "      <td>1</td>\n",
       "      <td>20000</td>\n",
       "      <td>2.7</td>\n",
       "      <td>6</td>\n",
       "      <td>3</td>\n",
       "      <td>New York</td>\n",
       "      <td>2010.0</td>\n",
       "    </tr>\n",
       "    <tr>\n",
       "      <th>4</th>\n",
       "      <td>truk</td>\n",
       "      <td>Ford</td>\n",
       "      <td>Model_5</td>\n",
       "      <td>2007.0</td>\n",
       "      <td>140523.0</td>\n",
       "      <td>Hybrid</td>\n",
       "      <td>Manual</td>\n",
       "      <td>Red</td>\n",
       "      <td>4</td>\n",
       "      <td>10000</td>\n",
       "      <td>2.6</td>\n",
       "      <td>4</td>\n",
       "      <td>4</td>\n",
       "      <td>Chicago</td>\n",
       "      <td>2007.0</td>\n",
       "    </tr>\n",
       "  </tbody>\n",
       "</table>\n",
       "</div>"
      ],
      "text/plain": [
       "  Car_Type     Brand    Model    Year   Mileage Fuel_Type Transmission  Color  \\\n",
       "0    Truck  Mercedes  Model_1  2006.0  166730.0    Hybrid       Manual  White   \n",
       "1    Sedan  Mercedes      NaN     NaN   94478.0  Electric    Automatic    NaN   \n",
       "2     SEDN       BMW  Model_3  2014.0       NaN  Electric    Automatic  White   \n",
       "3     SEDN      Audi  Model_4  2010.0  159503.0  Electric       Manual  Black   \n",
       "4     truk      Ford  Model_5  2007.0  140523.0    Hybrid       Manual    Red   \n",
       "\n",
       "   Owner    Price  Engine_Size  Seats  Doors  Location Integer_As_Object  \n",
       "0      4  invalid          2.2      3      5   Houston            2006.0  \n",
       "1      5    20000          1.7      3      5   Houston               nan  \n",
       "2      3    -5000          1.1      5      3     Miami            2014.0  \n",
       "3      1    20000          2.7      6      3  New York            2010.0  \n",
       "4      4    10000          2.6      4      4   Chicago            2007.0  "
      ]
     },
     "execution_count": 55,
     "metadata": {},
     "output_type": "execute_result"
    }
   ],
   "source": [
    "df.head(5)"
   ]
  },
  {
   "cell_type": "code",
   "execution_count": 56,
   "metadata": {},
   "outputs": [
    {
     "data": {
      "text/plain": [
       "(33, 15)"
      ]
     },
     "execution_count": 56,
     "metadata": {},
     "output_type": "execute_result"
    }
   ],
   "source": [
    "df.shape"
   ]
  },
  {
   "cell_type": "code",
   "execution_count": 57,
   "metadata": {},
   "outputs": [
    {
     "name": "stdout",
     "output_type": "stream",
     "text": [
      "<class 'pandas.core.frame.DataFrame'>\n",
      "RangeIndex: 33 entries, 0 to 32\n",
      "Data columns (total 15 columns):\n",
      " #   Column             Non-Null Count  Dtype  \n",
      "---  ------             --------------  -----  \n",
      " 0   Car_Type           33 non-null     object \n",
      " 1   Brand              33 non-null     object \n",
      " 2   Model              26 non-null     object \n",
      " 3   Year               26 non-null     float64\n",
      " 4   Mileage            26 non-null     float64\n",
      " 5   Fuel_Type          33 non-null     object \n",
      " 6   Transmission       33 non-null     object \n",
      " 7   Color              26 non-null     object \n",
      " 8   Owner              33 non-null     int64  \n",
      " 9   Price              33 non-null     object \n",
      " 10  Engine_Size        33 non-null     float64\n",
      " 11  Seats              33 non-null     int64  \n",
      " 12  Doors              33 non-null     int64  \n",
      " 13  Location           33 non-null     object \n",
      " 14  Integer_As_Object  33 non-null     object \n",
      "dtypes: float64(3), int64(3), object(9)\n",
      "memory usage: 4.0+ KB\n"
     ]
    }
   ],
   "source": [
    "df.info()"
   ]
  },
  {
   "cell_type": "code",
   "execution_count": 58,
   "metadata": {},
   "outputs": [
    {
     "data": {
      "text/plain": [
       "Car_Type             0\n",
       "Brand                0\n",
       "Model                7\n",
       "Year                 7\n",
       "Mileage              7\n",
       "Fuel_Type            0\n",
       "Transmission         0\n",
       "Color                7\n",
       "Owner                0\n",
       "Price                0\n",
       "Engine_Size          0\n",
       "Seats                0\n",
       "Doors                0\n",
       "Location             0\n",
       "Integer_As_Object    0\n",
       "dtype: int64"
      ]
     },
     "execution_count": 58,
     "metadata": {},
     "output_type": "execute_result"
    }
   ],
   "source": [
    "df.isnull().sum()"
   ]
  },
  {
   "cell_type": "code",
   "execution_count": null,
   "metadata": {},
   "outputs": [],
   "source": [
    "# column \"year\" and \"mileage\" are float type.\n",
    "# so first \"year\" and \"mileage\" column fill with mean.\n",
    "# column \"model\" and \"color\" is object type and have string values so fill with mode."
   ]
  },
  {
   "cell_type": "code",
   "execution_count": null,
   "metadata": {},
   "outputs": [],
   "source": [
    "# dataset['price'].fillna(dataset['price'].mean(), inplace=True)  => if single column\n",
    "# dataset[['price', 'mileage']] = dataset[['price', 'mileage']].apply(lambda col: col.fillna(col.mean())) => if more than 1 columns.\n",
    "# if more than one column then you can use two methods like 1. with lambda 2. with loop.\n",
    "\n"
   ]
  },
  {
   "cell_type": "code",
   "execution_count": 59,
   "metadata": {},
   "outputs": [
    {
     "name": "stderr",
     "output_type": "stream",
     "text": [
      "C:\\Users\\Mc\\AppData\\Local\\Temp\\ipykernel_956\\874545772.py:4: FutureWarning: A value is trying to be set on a copy of a DataFrame or Series through chained assignment using an inplace method.\n",
      "The behavior will change in pandas 3.0. This inplace method will never work because the intermediate object on which we are setting values always behaves as a copy.\n",
      "\n",
      "For example, when doing 'df[col].method(value, inplace=True)', try using 'df.method({col: value}, inplace=True)' or df[col] = df[col].method(value) instead, to perform the operation inplace on the original object.\n",
      "\n",
      "\n",
      "  df[col].fillna(df[col].mean(), inplace=True)\n"
     ]
    }
   ],
   "source": [
    "cols_to_fill = ['Year', 'Mileage']  # List of columns to fill\n",
    "\n",
    "for col in cols_to_fill:\n",
    "    df[col].fillna(df[col].mean(), inplace=True)\n"
   ]
  },
  {
   "cell_type": "code",
   "execution_count": 60,
   "metadata": {},
   "outputs": [
    {
     "data": {
      "text/plain": [
       "Car_Type             0\n",
       "Brand                0\n",
       "Model                7\n",
       "Year                 0\n",
       "Mileage              0\n",
       "Fuel_Type            0\n",
       "Transmission         0\n",
       "Color                7\n",
       "Owner                0\n",
       "Price                0\n",
       "Engine_Size          0\n",
       "Seats                0\n",
       "Doors                0\n",
       "Location             0\n",
       "Integer_As_Object    0\n",
       "dtype: int64"
      ]
     },
     "execution_count": 60,
     "metadata": {},
     "output_type": "execute_result"
    }
   ],
   "source": [
    "df.isnull().sum()"
   ]
  },
  {
   "cell_type": "code",
   "execution_count": null,
   "metadata": {},
   "outputs": [],
   "source": [
    "# dataset['car_type'].fillna(dataset['car_type'].mode()[0], inplace=True) => if single column"
   ]
  },
  {
   "cell_type": "code",
   "execution_count": 61,
   "metadata": {},
   "outputs": [
    {
     "name": "stderr",
     "output_type": "stream",
     "text": [
      "C:\\Users\\Mc\\AppData\\Local\\Temp\\ipykernel_956\\525247931.py:4: FutureWarning: A value is trying to be set on a copy of a DataFrame or Series through chained assignment using an inplace method.\n",
      "The behavior will change in pandas 3.0. This inplace method will never work because the intermediate object on which we are setting values always behaves as a copy.\n",
      "\n",
      "For example, when doing 'df[col].method(value, inplace=True)', try using 'df.method({col: value}, inplace=True)' or df[col] = df[col].method(value) instead, to perform the operation inplace on the original object.\n",
      "\n",
      "\n",
      "  df[col].fillna(df[col].mode()[0], inplace=True)\n"
     ]
    }
   ],
   "source": [
    "cols_to_fill = ['Model', 'Color']  # List of columns to fill\n",
    "\n",
    "for col in cols_to_fill:\n",
    "    df[col].fillna(df[col].mode()[0], inplace=True)"
   ]
  },
  {
   "cell_type": "code",
   "execution_count": 62,
   "metadata": {},
   "outputs": [
    {
     "data": {
      "text/plain": [
       "Car_Type             0\n",
       "Brand                0\n",
       "Model                0\n",
       "Year                 0\n",
       "Mileage              0\n",
       "Fuel_Type            0\n",
       "Transmission         0\n",
       "Color                0\n",
       "Owner                0\n",
       "Price                0\n",
       "Engine_Size          0\n",
       "Seats                0\n",
       "Doors                0\n",
       "Location             0\n",
       "Integer_As_Object    0\n",
       "dtype: int64"
      ]
     },
     "execution_count": 62,
     "metadata": {},
     "output_type": "execute_result"
    }
   ],
   "source": [
    "df.isnull().sum()"
   ]
  },
  {
   "cell_type": "markdown",
   "metadata": {},
   "source": [
    "Good question! The reason we **use `[0]` with `mode()` but not with `mean()`** is because of the difference in their outputs:\n",
    "\n",
    "### **1️⃣ `mean()` returns a single value (number)**\n",
    "- `mean()` computes the average and returns **one numeric value**.\n",
    "- Since it's a single value, **indexing `[0]` is unnecessary**.\n",
    "\n",
    "✅ **Example (No `[0]` needed)**  \n",
    "```python\n",
    "dataset['price'].fillna(dataset['price'].mean(), inplace=True)\n",
    "```\n",
    "---\n",
    "\n",
    "### **2️⃣ `mode()` returns a Series (can have multiple values)**\n",
    "- `mode()` finds the most frequently occurring value(s).\n",
    "- It **returns a Series** (not a single value), because there can be multiple modes.\n",
    "- To get just one mode (usually the first), we **use `[0]`**.\n",
    "\n",
    "✅ **Example (Using `[0]` to select the first mode)**  \n",
    "```python\n",
    "dataset['car_type'].fillna(dataset['car_type'].mode()[0], inplace=True)\n",
    "```\n",
    "Here, `dataset['car_type'].mode()` might return multiple values (e.g., `['Sedan', 'SUV']`), and `[0]` selects the first one.\n",
    "\n",
    "---\n",
    "\n",
    "### **Summary**  \n",
    "| Function | Returns | `[0]` Needed? |  \n",
    "|----------|---------|--------------|  \n",
    "| `.mean()` | A single numeric value | ❌ No |  \n",
    "| `.mode()` | A Series (list-like) | ✅ Yes (to select the first mode) |\n",
    "\n",
    "Let me know if you need more clarification! 🚀"
   ]
  },
  {
   "cell_type": "markdown",
   "metadata": {},
   "source": [
    "##  2. Handling duplicates    🎀🎀🎀🎀"
   ]
  },
  {
   "cell_type": "code",
   "execution_count": null,
   "metadata": {},
   "outputs": [
    {
     "data": {
      "text/html": [
       "<div>\n",
       "<style scoped>\n",
       "    .dataframe tbody tr th:only-of-type {\n",
       "        vertical-align: middle;\n",
       "    }\n",
       "\n",
       "    .dataframe tbody tr th {\n",
       "        vertical-align: top;\n",
       "    }\n",
       "\n",
       "    .dataframe thead th {\n",
       "        text-align: right;\n",
       "    }\n",
       "</style>\n",
       "<table border=\"1\" class=\"dataframe\">\n",
       "  <thead>\n",
       "    <tr style=\"text-align: right;\">\n",
       "      <th></th>\n",
       "      <th>Car_Type</th>\n",
       "      <th>Brand</th>\n",
       "      <th>Model</th>\n",
       "      <th>Year</th>\n",
       "      <th>Mileage</th>\n",
       "      <th>Fuel_Type</th>\n",
       "      <th>Transmission</th>\n",
       "      <th>Color</th>\n",
       "      <th>Owner</th>\n",
       "      <th>Price</th>\n",
       "      <th>Engine_Size</th>\n",
       "      <th>Seats</th>\n",
       "      <th>Doors</th>\n",
       "      <th>Location</th>\n",
       "      <th>Integer_As_Object</th>\n",
       "    </tr>\n",
       "  </thead>\n",
       "  <tbody>\n",
       "    <tr>\n",
       "      <th>30</th>\n",
       "      <td>Truck</td>\n",
       "      <td>Mercedes</td>\n",
       "      <td>Model_1</td>\n",
       "      <td>2006.0</td>\n",
       "      <td>166730.000000</td>\n",
       "      <td>Hybrid</td>\n",
       "      <td>Manual</td>\n",
       "      <td>White</td>\n",
       "      <td>4</td>\n",
       "      <td>invalid</td>\n",
       "      <td>2.2</td>\n",
       "      <td>3</td>\n",
       "      <td>5</td>\n",
       "      <td>Houston</td>\n",
       "      <td>2006.0</td>\n",
       "    </tr>\n",
       "    <tr>\n",
       "      <th>31</th>\n",
       "      <td>Sedan</td>\n",
       "      <td>Mercedes</td>\n",
       "      <td>Model_1</td>\n",
       "      <td>2012.0</td>\n",
       "      <td>94478.000000</td>\n",
       "      <td>Electric</td>\n",
       "      <td>Automatic</td>\n",
       "      <td>Black</td>\n",
       "      <td>5</td>\n",
       "      <td>20000</td>\n",
       "      <td>1.7</td>\n",
       "      <td>3</td>\n",
       "      <td>5</td>\n",
       "      <td>Houston</td>\n",
       "      <td>nan</td>\n",
       "    </tr>\n",
       "    <tr>\n",
       "      <th>32</th>\n",
       "      <td>SEDN</td>\n",
       "      <td>BMW</td>\n",
       "      <td>Model_3</td>\n",
       "      <td>2014.0</td>\n",
       "      <td>110032.730769</td>\n",
       "      <td>Electric</td>\n",
       "      <td>Automatic</td>\n",
       "      <td>White</td>\n",
       "      <td>3</td>\n",
       "      <td>-5000</td>\n",
       "      <td>1.1</td>\n",
       "      <td>5</td>\n",
       "      <td>3</td>\n",
       "      <td>Miami</td>\n",
       "      <td>2014.0</td>\n",
       "    </tr>\n",
       "  </tbody>\n",
       "</table>\n",
       "</div>"
      ],
      "text/plain": [
       "   Car_Type     Brand    Model    Year        Mileage Fuel_Type Transmission  \\\n",
       "30    Truck  Mercedes  Model_1  2006.0  166730.000000    Hybrid       Manual   \n",
       "31    Sedan  Mercedes  Model_1  2012.0   94478.000000  Electric    Automatic   \n",
       "32     SEDN       BMW  Model_3  2014.0  110032.730769  Electric    Automatic   \n",
       "\n",
       "    Color  Owner    Price  Engine_Size  Seats  Doors Location  \\\n",
       "30  White      4  invalid          2.2      3      5  Houston   \n",
       "31  Black      5    20000          1.7      3      5  Houston   \n",
       "32  White      3    -5000          1.1      5      3    Miami   \n",
       "\n",
       "   Integer_As_Object  \n",
       "30            2006.0  \n",
       "31               nan  \n",
       "32            2014.0  "
      ]
     },
     "execution_count": 71,
     "metadata": {},
     "output_type": "execute_result"
    }
   ],
   "source": [
    "# Find All Duplicate Rows\n",
    "duplicate_rows = df[df.duplicated()]\n",
    "duplicate_rows\n"
   ]
  },
  {
   "cell_type": "code",
   "execution_count": null,
   "metadata": {},
   "outputs": [
    {
     "data": {
      "text/html": [
       "<div>\n",
       "<style scoped>\n",
       "    .dataframe tbody tr th:only-of-type {\n",
       "        vertical-align: middle;\n",
       "    }\n",
       "\n",
       "    .dataframe tbody tr th {\n",
       "        vertical-align: top;\n",
       "    }\n",
       "\n",
       "    .dataframe thead th {\n",
       "        text-align: right;\n",
       "    }\n",
       "</style>\n",
       "<table border=\"1\" class=\"dataframe\">\n",
       "  <thead>\n",
       "    <tr style=\"text-align: right;\">\n",
       "      <th></th>\n",
       "      <th>Car_Type</th>\n",
       "      <th>Brand</th>\n",
       "      <th>Model</th>\n",
       "      <th>Year</th>\n",
       "      <th>Mileage</th>\n",
       "      <th>Fuel_Type</th>\n",
       "      <th>Transmission</th>\n",
       "      <th>Color</th>\n",
       "      <th>Owner</th>\n",
       "      <th>Price</th>\n",
       "      <th>Engine_Size</th>\n",
       "      <th>Seats</th>\n",
       "      <th>Doors</th>\n",
       "      <th>Location</th>\n",
       "      <th>Integer_As_Object</th>\n",
       "    </tr>\n",
       "  </thead>\n",
       "  <tbody>\n",
       "    <tr>\n",
       "      <th>0</th>\n",
       "      <td>Truck</td>\n",
       "      <td>Mercedes</td>\n",
       "      <td>Model_1</td>\n",
       "      <td>2006.0</td>\n",
       "      <td>166730.000000</td>\n",
       "      <td>Hybrid</td>\n",
       "      <td>Manual</td>\n",
       "      <td>White</td>\n",
       "      <td>4</td>\n",
       "      <td>invalid</td>\n",
       "      <td>2.2</td>\n",
       "      <td>3</td>\n",
       "      <td>5</td>\n",
       "      <td>Houston</td>\n",
       "      <td>2006.0</td>\n",
       "    </tr>\n",
       "    <tr>\n",
       "      <th>1</th>\n",
       "      <td>Sedan</td>\n",
       "      <td>Mercedes</td>\n",
       "      <td>Model_1</td>\n",
       "      <td>2012.0</td>\n",
       "      <td>94478.000000</td>\n",
       "      <td>Electric</td>\n",
       "      <td>Automatic</td>\n",
       "      <td>Black</td>\n",
       "      <td>5</td>\n",
       "      <td>20000</td>\n",
       "      <td>1.7</td>\n",
       "      <td>3</td>\n",
       "      <td>5</td>\n",
       "      <td>Houston</td>\n",
       "      <td>nan</td>\n",
       "    </tr>\n",
       "    <tr>\n",
       "      <th>2</th>\n",
       "      <td>SEDN</td>\n",
       "      <td>BMW</td>\n",
       "      <td>Model_3</td>\n",
       "      <td>2014.0</td>\n",
       "      <td>110032.730769</td>\n",
       "      <td>Electric</td>\n",
       "      <td>Automatic</td>\n",
       "      <td>White</td>\n",
       "      <td>3</td>\n",
       "      <td>-5000</td>\n",
       "      <td>1.1</td>\n",
       "      <td>5</td>\n",
       "      <td>3</td>\n",
       "      <td>Miami</td>\n",
       "      <td>2014.0</td>\n",
       "    </tr>\n",
       "    <tr>\n",
       "      <th>30</th>\n",
       "      <td>Truck</td>\n",
       "      <td>Mercedes</td>\n",
       "      <td>Model_1</td>\n",
       "      <td>2006.0</td>\n",
       "      <td>166730.000000</td>\n",
       "      <td>Hybrid</td>\n",
       "      <td>Manual</td>\n",
       "      <td>White</td>\n",
       "      <td>4</td>\n",
       "      <td>invalid</td>\n",
       "      <td>2.2</td>\n",
       "      <td>3</td>\n",
       "      <td>5</td>\n",
       "      <td>Houston</td>\n",
       "      <td>2006.0</td>\n",
       "    </tr>\n",
       "    <tr>\n",
       "      <th>31</th>\n",
       "      <td>Sedan</td>\n",
       "      <td>Mercedes</td>\n",
       "      <td>Model_1</td>\n",
       "      <td>2012.0</td>\n",
       "      <td>94478.000000</td>\n",
       "      <td>Electric</td>\n",
       "      <td>Automatic</td>\n",
       "      <td>Black</td>\n",
       "      <td>5</td>\n",
       "      <td>20000</td>\n",
       "      <td>1.7</td>\n",
       "      <td>3</td>\n",
       "      <td>5</td>\n",
       "      <td>Houston</td>\n",
       "      <td>nan</td>\n",
       "    </tr>\n",
       "    <tr>\n",
       "      <th>32</th>\n",
       "      <td>SEDN</td>\n",
       "      <td>BMW</td>\n",
       "      <td>Model_3</td>\n",
       "      <td>2014.0</td>\n",
       "      <td>110032.730769</td>\n",
       "      <td>Electric</td>\n",
       "      <td>Automatic</td>\n",
       "      <td>White</td>\n",
       "      <td>3</td>\n",
       "      <td>-5000</td>\n",
       "      <td>1.1</td>\n",
       "      <td>5</td>\n",
       "      <td>3</td>\n",
       "      <td>Miami</td>\n",
       "      <td>2014.0</td>\n",
       "    </tr>\n",
       "  </tbody>\n",
       "</table>\n",
       "</div>"
      ],
      "text/plain": [
       "   Car_Type     Brand    Model    Year        Mileage Fuel_Type Transmission  \\\n",
       "0     Truck  Mercedes  Model_1  2006.0  166730.000000    Hybrid       Manual   \n",
       "1     Sedan  Mercedes  Model_1  2012.0   94478.000000  Electric    Automatic   \n",
       "2      SEDN       BMW  Model_3  2014.0  110032.730769  Electric    Automatic   \n",
       "30    Truck  Mercedes  Model_1  2006.0  166730.000000    Hybrid       Manual   \n",
       "31    Sedan  Mercedes  Model_1  2012.0   94478.000000  Electric    Automatic   \n",
       "32     SEDN       BMW  Model_3  2014.0  110032.730769  Electric    Automatic   \n",
       "\n",
       "    Color  Owner    Price  Engine_Size  Seats  Doors Location  \\\n",
       "0   White      4  invalid          2.2      3      5  Houston   \n",
       "1   Black      5    20000          1.7      3      5  Houston   \n",
       "2   White      3    -5000          1.1      5      3    Miami   \n",
       "30  White      4  invalid          2.2      3      5  Houston   \n",
       "31  Black      5    20000          1.7      3      5  Houston   \n",
       "32  White      3    -5000          1.1      5      3    Miami   \n",
       "\n",
       "   Integer_As_Object  \n",
       "0             2006.0  \n",
       "1                nan  \n",
       "2             2014.0  \n",
       "30            2006.0  \n",
       "31               nan  \n",
       "32            2014.0  "
      ]
     },
     "execution_count": 69,
     "metadata": {},
     "output_type": "execute_result"
    }
   ],
   "source": [
    "# Find All Duplicate Rows (Including First Occurrence)\n",
    "duplicate_rows = df[df.duplicated(keep= False)]\n",
    "duplicate_rows\n"
   ]
  },
  {
   "cell_type": "code",
   "execution_count": 73,
   "metadata": {},
   "outputs": [
    {
     "name": "stdout",
     "output_type": "stream",
     "text": [
      "Index([30, 31, 32], dtype='int64')\n"
     ]
    }
   ],
   "source": [
    "duplicate_indices = df[df.duplicated()].index\n",
    "print(duplicate_indices)\n"
   ]
  },
  {
   "cell_type": "code",
   "execution_count": null,
   "metadata": {},
   "outputs": [
    {
     "name": "stdout",
     "output_type": "stream",
     "text": [
      "Total duplicate rows: 3\n"
     ]
    }
   ],
   "source": [
    "# # Count the Total Number of Duplicates\n",
    "duplicate_count = df.duplicated().sum()\n",
    "print(f\"Total duplicate rows: {duplicate_count}\")\n"
   ]
  },
  {
   "cell_type": "code",
   "execution_count": null,
   "metadata": {},
   "outputs": [
    {
     "data": {
      "text/plain": [
       "np.int64(3)"
      ]
     },
     "execution_count": 70,
     "metadata": {},
     "output_type": "execute_result"
    }
   ],
   "source": [
    "# Count the Total Number of Duplicates\n",
    "df.duplicated().sum()"
   ]
  },
  {
   "cell_type": "code",
   "execution_count": null,
   "metadata": {},
   "outputs": [],
   "source": [
    "# remove duplicate rows\n",
    "df = df.drop_duplicates()  # This removes duplicate rows and keeps the first occurrence.\n"
   ]
  },
  {
   "cell_type": "code",
   "execution_count": null,
   "metadata": {},
   "outputs": [
    {
     "data": {
      "text/plain": [
       "(30, 15)"
      ]
     },
     "execution_count": 75,
     "metadata": {},
     "output_type": "execute_result"
    }
   ],
   "source": [
    "df.shape    # first shape is (33,15)"
   ]
  },
  {
   "cell_type": "markdown",
   "metadata": {},
   "source": [
    "* df = df.drop_duplicates(keep='last')  => Remove All Duplicate Rows (Keep Last Occurrence)\n",
    "* df = df.drop_duplicates(keep=False)   => Remove All Duplicates (Keep None - Remove All Duplicates)\n",
    "* df = df.drop_duplicates(subset=['Car_Type', 'Brand'], keep='first')  => Remove Duplicates Based on Specific Columns\n",
    "\n"
   ]
  },
  {
   "cell_type": "markdown",
   "metadata": {},
   "source": [
    "## 3. Checking for Inconsistencies & Errors   🎀🎀🎀🎀"
   ]
  },
  {
   "cell_type": "markdown",
   "metadata": {},
   "source": [
    "### 3.1"
   ]
  },
  {
   "cell_type": "markdown",
   "metadata": {},
   "source": [
    "* When numerical columns are stored as text (e.g., price stored as a string), it can cause errors in calculations and modeling. Here’s how to detect and fix data type mismatches in Pandas:"
   ]
  },
  {
   "cell_type": "code",
   "execution_count": 76,
   "metadata": {},
   "outputs": [
    {
     "name": "stdout",
     "output_type": "stream",
     "text": [
      "<class 'pandas.core.frame.DataFrame'>\n",
      "Index: 30 entries, 0 to 29\n",
      "Data columns (total 15 columns):\n",
      " #   Column             Non-Null Count  Dtype  \n",
      "---  ------             --------------  -----  \n",
      " 0   Car_Type           30 non-null     object \n",
      " 1   Brand              30 non-null     object \n",
      " 2   Model              30 non-null     object \n",
      " 3   Year               30 non-null     float64\n",
      " 4   Mileage            30 non-null     float64\n",
      " 5   Fuel_Type          30 non-null     object \n",
      " 6   Transmission       30 non-null     object \n",
      " 7   Color              30 non-null     object \n",
      " 8   Owner              30 non-null     int64  \n",
      " 9   Price              30 non-null     object \n",
      " 10  Engine_Size        30 non-null     float64\n",
      " 11  Seats              30 non-null     int64  \n",
      " 12  Doors              30 non-null     int64  \n",
      " 13  Location           30 non-null     object \n",
      " 14  Integer_As_Object  30 non-null     object \n",
      "dtypes: float64(3), int64(3), object(9)\n",
      "memory usage: 3.8+ KB\n"
     ]
    }
   ],
   "source": [
    "df.info()"
   ]
  },
  {
   "cell_type": "code",
   "execution_count": 77,
   "metadata": {},
   "outputs": [
    {
     "data": {
      "text/html": [
       "<div>\n",
       "<style scoped>\n",
       "    .dataframe tbody tr th:only-of-type {\n",
       "        vertical-align: middle;\n",
       "    }\n",
       "\n",
       "    .dataframe tbody tr th {\n",
       "        vertical-align: top;\n",
       "    }\n",
       "\n",
       "    .dataframe thead th {\n",
       "        text-align: right;\n",
       "    }\n",
       "</style>\n",
       "<table border=\"1\" class=\"dataframe\">\n",
       "  <thead>\n",
       "    <tr style=\"text-align: right;\">\n",
       "      <th></th>\n",
       "      <th>Car_Type</th>\n",
       "      <th>Brand</th>\n",
       "      <th>Model</th>\n",
       "      <th>Year</th>\n",
       "      <th>Mileage</th>\n",
       "      <th>Fuel_Type</th>\n",
       "      <th>Transmission</th>\n",
       "      <th>Color</th>\n",
       "      <th>Owner</th>\n",
       "      <th>Price</th>\n",
       "      <th>Engine_Size</th>\n",
       "      <th>Seats</th>\n",
       "      <th>Doors</th>\n",
       "      <th>Location</th>\n",
       "      <th>Integer_As_Object</th>\n",
       "    </tr>\n",
       "  </thead>\n",
       "  <tbody>\n",
       "    <tr>\n",
       "      <th>0</th>\n",
       "      <td>Truck</td>\n",
       "      <td>Mercedes</td>\n",
       "      <td>Model_1</td>\n",
       "      <td>2006.0</td>\n",
       "      <td>166730.0</td>\n",
       "      <td>Hybrid</td>\n",
       "      <td>Manual</td>\n",
       "      <td>White</td>\n",
       "      <td>4</td>\n",
       "      <td>invalid</td>\n",
       "      <td>2.2</td>\n",
       "      <td>3</td>\n",
       "      <td>5</td>\n",
       "      <td>Houston</td>\n",
       "      <td>2006.0</td>\n",
       "    </tr>\n",
       "    <tr>\n",
       "      <th>1</th>\n",
       "      <td>Sedan</td>\n",
       "      <td>Mercedes</td>\n",
       "      <td>Model_1</td>\n",
       "      <td>2012.0</td>\n",
       "      <td>94478.0</td>\n",
       "      <td>Electric</td>\n",
       "      <td>Automatic</td>\n",
       "      <td>Black</td>\n",
       "      <td>5</td>\n",
       "      <td>20000</td>\n",
       "      <td>1.7</td>\n",
       "      <td>3</td>\n",
       "      <td>5</td>\n",
       "      <td>Houston</td>\n",
       "      <td>nan</td>\n",
       "    </tr>\n",
       "  </tbody>\n",
       "</table>\n",
       "</div>"
      ],
      "text/plain": [
       "  Car_Type     Brand    Model    Year   Mileage Fuel_Type Transmission  Color  \\\n",
       "0    Truck  Mercedes  Model_1  2006.0  166730.0    Hybrid       Manual  White   \n",
       "1    Sedan  Mercedes  Model_1  2012.0   94478.0  Electric    Automatic  Black   \n",
       "\n",
       "   Owner    Price  Engine_Size  Seats  Doors Location Integer_As_Object  \n",
       "0      4  invalid          2.2      3      5  Houston            2006.0  \n",
       "1      5    20000          1.7      3      5  Houston               nan  "
      ]
     },
     "execution_count": 77,
     "metadata": {},
     "output_type": "execute_result"
    }
   ],
   "source": [
    "df.head(2)"
   ]
  },
  {
   "cell_type": "markdown",
   "metadata": {},
   "source": [
    "* we see \"price\" and \"integer_as_object\" column is object type.\n",
    "* so overview these two columns and handle inconsistencies and errors. "
   ]
  },
  {
   "cell_type": "code",
   "execution_count": 78,
   "metadata": {},
   "outputs": [
    {
     "data": {
      "text/plain": [
       "array(['invalid', 20000, -5000, '10000', 15000, '25000'], dtype=object)"
      ]
     },
     "execution_count": 78,
     "metadata": {},
     "output_type": "execute_result"
    }
   ],
   "source": [
    "df[\"Price\"].unique()"
   ]
  },
  {
   "cell_type": "code",
   "execution_count": 79,
   "metadata": {},
   "outputs": [
    {
     "data": {
      "text/plain": [
       "Price\n",
       "15000      7\n",
       "-5000      6\n",
       "10000      5\n",
       "20000      5\n",
       "invalid    4\n",
       "25000      3\n",
       "Name: count, dtype: int64"
      ]
     },
     "execution_count": 79,
     "metadata": {},
     "output_type": "execute_result"
    }
   ],
   "source": [
    "df[\"Price\"].value_counts()"
   ]
  },
  {
   "cell_type": "markdown",
   "metadata": {},
   "source": [
    "* in this \"price\" columns have 3 mistakes: \n",
    "1. int store as str \n",
    "2. invalid values \n",
    "3. price is negative\n",
    "* because price can never be negative."
   ]
  },
  {
   "cell_type": "markdown",
   "metadata": {},
   "source": [
    "####  You can clean the price column by following these steps:\n",
    "\n",
    "1. Convert numeric strings to integers.\n",
    "2. Replace invalid values (e.g., \"invalid\") with NaN.\n",
    "3. Convert negative prices to NaN.\n",
    "4. Optionally, replace NaN values with the mean price."
   ]
  },
  {
   "cell_type": "code",
   "execution_count": null,
   "metadata": {},
   "outputs": [],
   "source": [
    "# Convert 'price' to numeric, coercing errors to NaN\n",
    "# This converts valid numbers and replaces non-numeric values (like \"N/A\" or \"missing\") with NaN.\n",
    "df['Price'] = pd.to_numeric(df['Price'], errors='coerce')  \n",
    "\n",
    "# errors='coerce': Any value that can't be converted to a number (e.g., strings like 'abc' or symbols like '$100' if not cleaned)\n",
    "#  will be replaced with NaN (Not a Number)."
   ]
  },
  {
   "cell_type": "markdown",
   "metadata": {},
   "source": [
    "* pd.to_numeric(df['Price'], errors='coerce'): This function converts values in the 'Price' column to numbers.\n",
    "* errors='coerce': If there are any invalid (non-numeric) values, they are replaced with NaN instead of causing an error.\n",
    "* This is useful when dealing with messy data that may contain strings or other non-numeric values in a numeric column."
   ]
  },
  {
   "cell_type": "code",
   "execution_count": 83,
   "metadata": {},
   "outputs": [
    {
     "data": {
      "text/plain": [
       "dtype('float64')"
      ]
     },
     "execution_count": 83,
     "metadata": {},
     "output_type": "execute_result"
    }
   ],
   "source": [
    "df[\"Price\"].dtype"
   ]
  },
  {
   "cell_type": "code",
   "execution_count": null,
   "metadata": {},
   "outputs": [],
   "source": [
    "# \"price\" column convert object to float and the reason is the datatye of NaN is float. \n",
    "# NaN and nan is same that represent missing values. if we drop or fill missing values with mean, median, mode\n",
    "# and nan is not dropped or fill with mean then its mean that nan pass as a string values.\n",
    "# df[\"Price\"].unique  => in this we understand which value is string, nan, and integer."
   ]
  },
  {
   "cell_type": "code",
   "execution_count": 84,
   "metadata": {},
   "outputs": [
    {
     "data": {
      "text/plain": [
       "np.int64(4)"
      ]
     },
     "execution_count": 84,
     "metadata": {},
     "output_type": "execute_result"
    }
   ],
   "source": [
    "df[\"Price\"].isnull().sum()"
   ]
  },
  {
   "cell_type": "code",
   "execution_count": 85,
   "metadata": {},
   "outputs": [
    {
     "data": {
      "text/plain": [
       "array([   nan, 20000., -5000., 10000., 15000., 25000.])"
      ]
     },
     "execution_count": 85,
     "metadata": {},
     "output_type": "execute_result"
    }
   ],
   "source": [
    "df[\"Price\"].unique()"
   ]
  },
  {
   "cell_type": "code",
   "execution_count": null,
   "metadata": {},
   "outputs": [],
   "source": [
    "# Replace negative values with NaN\n",
    "# This is useful for cleaning data when negative prices don't make sense in the dataset.\n",
    "# df.loc[row_condition, column_name] = new_value\n",
    "df.loc[df['Price'] < 0, 'Price'] = np.nan  # This finds rows where 'Price' < 0 and replaces them with NaN."
   ]
  },
  {
   "cell_type": "markdown",
   "metadata": {},
   "source": [
    "* df.loc[df['Age'] > 60, 'Category'] = 'Senior'  # Assign category based on age  \n",
    "\n",
    "* df.loc[:, 'Price'] *= 1.1  # Increase all prices by 10%\n",
    "\n",
    "* df.loc[df['Price'] == -20, 'Price'] = np.nan\n",
    "\n",
    "* df['Price'] = df['Price'].replace(-20, np.nan)  => Replace specific value (-20) with NaN\n"
   ]
  },
  {
   "cell_type": "code",
   "execution_count": 89,
   "metadata": {},
   "outputs": [
    {
     "name": "stderr",
     "output_type": "stream",
     "text": [
      "C:\\Users\\Mc\\AppData\\Local\\Temp\\ipykernel_956\\1748839693.py:2: FutureWarning: A value is trying to be set on a copy of a DataFrame or Series through chained assignment using an inplace method.\n",
      "The behavior will change in pandas 3.0. This inplace method will never work because the intermediate object on which we are setting values always behaves as a copy.\n",
      "\n",
      "For example, when doing 'df[col].method(value, inplace=True)', try using 'df.method({col: value}, inplace=True)' or df[col] = df[col].method(value) instead, to perform the operation inplace on the original object.\n",
      "\n",
      "\n",
      "  df['Price'].fillna(df['Price'].mean(), inplace=True)\n"
     ]
    }
   ],
   "source": [
    "# Fill NaN values with the mean price (ignoring NaNs)\n",
    "df['Price'].fillna(df['Price'].mean(), inplace=True)"
   ]
  },
  {
   "cell_type": "code",
   "execution_count": 90,
   "metadata": {},
   "outputs": [],
   "source": [
    "# Convert back to integer type\n",
    "df['Price'] = df['Price'].astype(int)"
   ]
  },
  {
   "cell_type": "code",
   "execution_count": 91,
   "metadata": {},
   "outputs": [
    {
     "data": {
      "text/plain": [
       "dtype('int64')"
      ]
     },
     "execution_count": 91,
     "metadata": {},
     "output_type": "execute_result"
    }
   ],
   "source": [
    "df[\"Price\"].dtype"
   ]
  },
  {
   "cell_type": "code",
   "execution_count": 92,
   "metadata": {},
   "outputs": [
    {
     "data": {
      "text/plain": [
       "Car_Type             0\n",
       "Brand                0\n",
       "Model                0\n",
       "Year                 0\n",
       "Mileage              0\n",
       "Fuel_Type            0\n",
       "Transmission         0\n",
       "Color                0\n",
       "Owner                0\n",
       "Price                0\n",
       "Engine_Size          0\n",
       "Seats                0\n",
       "Doors                0\n",
       "Location             0\n",
       "Integer_As_Object    0\n",
       "dtype: int64"
      ]
     },
     "execution_count": 92,
     "metadata": {},
     "output_type": "execute_result"
    }
   ],
   "source": [
    "df.isnull().sum()"
   ]
  },
  {
   "cell_type": "code",
   "execution_count": 93,
   "metadata": {},
   "outputs": [
    {
     "name": "stdout",
     "output_type": "stream",
     "text": [
      "<class 'pandas.core.frame.DataFrame'>\n",
      "Index: 30 entries, 0 to 29\n",
      "Data columns (total 15 columns):\n",
      " #   Column             Non-Null Count  Dtype  \n",
      "---  ------             --------------  -----  \n",
      " 0   Car_Type           30 non-null     object \n",
      " 1   Brand              30 non-null     object \n",
      " 2   Model              30 non-null     object \n",
      " 3   Year               30 non-null     float64\n",
      " 4   Mileage            30 non-null     float64\n",
      " 5   Fuel_Type          30 non-null     object \n",
      " 6   Transmission       30 non-null     object \n",
      " 7   Color              30 non-null     object \n",
      " 8   Owner              30 non-null     int64  \n",
      " 9   Price              30 non-null     int64  \n",
      " 10  Engine_Size        30 non-null     float64\n",
      " 11  Seats              30 non-null     int64  \n",
      " 12  Doors              30 non-null     int64  \n",
      " 13  Location           30 non-null     object \n",
      " 14  Integer_As_Object  30 non-null     object \n",
      "dtypes: float64(3), int64(4), object(8)\n",
      "memory usage: 3.8+ KB\n"
     ]
    }
   ],
   "source": [
    "df.info()"
   ]
  },
  {
   "cell_type": "code",
   "execution_count": null,
   "metadata": {},
   "outputs": [
    {
     "data": {
      "text/plain": [
       "array(['2006.0', 'nan', '2014.0', '2010.0', '2007.0', '2018.0', '2022.0',\n",
       "       '2023.0', '2020.0', '2003.0', '2021.0', '2001.0', '2011.0',\n",
       "       '2005.0', '2000.0'], dtype=object)"
      ]
     },
     "execution_count": 94,
     "metadata": {},
     "output_type": "execute_result"
    }
   ],
   "source": [
    "# now deal with \"integer_as_object\" column\n",
    "df[\"Integer_As_Object\"].unique()"
   ]
  },
  {
   "cell_type": "code",
   "execution_count": 95,
   "metadata": {},
   "outputs": [
    {
     "data": {
      "text/plain": [
       "Integer_As_Object\n",
       "nan       6\n",
       "2010.0    3\n",
       "2023.0    3\n",
       "2020.0    3\n",
       "2011.0    2\n",
       "2007.0    2\n",
       "2006.0    2\n",
       "2001.0    2\n",
       "2022.0    1\n",
       "2014.0    1\n",
       "2018.0    1\n",
       "2021.0    1\n",
       "2003.0    1\n",
       "2005.0    1\n",
       "2000.0    1\n",
       "Name: count, dtype: int64"
      ]
     },
     "execution_count": 95,
     "metadata": {},
     "output_type": "execute_result"
    }
   ],
   "source": [
    "df[\"Integer_As_Object\"].value_counts()"
   ]
  },
  {
   "cell_type": "code",
   "execution_count": 96,
   "metadata": {},
   "outputs": [
    {
     "data": {
      "text/plain": [
       "dtype('O')"
      ]
     },
     "execution_count": 96,
     "metadata": {},
     "output_type": "execute_result"
    }
   ],
   "source": [
    "df[\"Integer_As_Object\"].dtype"
   ]
  },
  {
   "cell_type": "markdown",
   "metadata": {},
   "source": [
    "* Replace string \"nan\" with NaN using replace().\n",
    "* Convert the column to numeric using pd.to_numeric(df['column'], errors='coerce').\n",
    "* Drop actual NaN values if needed."
   ]
  },
  {
   "cell_type": "code",
   "execution_count": 97,
   "metadata": {},
   "outputs": [],
   "source": [
    "# Convert 'nan' string to actual NaN\n",
    "df['Integer_As_Object'] = df['Integer_As_Object'].replace('nan', np.nan)"
   ]
  },
  {
   "cell_type": "code",
   "execution_count": null,
   "metadata": {},
   "outputs": [],
   "source": [
    "# if above not replace then errors='coerce' automatically replace non numeric valiues to nan.\n",
    "# Convert the column to numeric type, setting invalid values (e.g., 'invalid') to NaN\n",
    "df['Integer_As_Object'] = pd.to_numeric(df['Integer_As_Object'], errors='coerce')\n"
   ]
  },
  {
   "cell_type": "code",
   "execution_count": 100,
   "metadata": {},
   "outputs": [],
   "source": [
    "# Remove negative values by replacing them with NaN\n",
    "df.loc[df['Integer_As_Object'] < 0, 'Integer_As_Object'] = np.nan"
   ]
  },
  {
   "cell_type": "code",
   "execution_count": 101,
   "metadata": {},
   "outputs": [
    {
     "data": {
      "text/plain": [
       "np.int64(6)"
      ]
     },
     "execution_count": 101,
     "metadata": {},
     "output_type": "execute_result"
    }
   ],
   "source": [
    "df[\"Integer_As_Object\"].isnull().sum()"
   ]
  },
  {
   "cell_type": "code",
   "execution_count": 102,
   "metadata": {},
   "outputs": [
    {
     "data": {
      "text/plain": [
       "dtype('float64')"
      ]
     },
     "execution_count": 102,
     "metadata": {},
     "output_type": "execute_result"
    }
   ],
   "source": [
    "df[\"Integer_As_Object\"].dtype"
   ]
  },
  {
   "cell_type": "code",
   "execution_count": 106,
   "metadata": {},
   "outputs": [
    {
     "name": "stderr",
     "output_type": "stream",
     "text": [
      "C:\\Users\\Mc\\AppData\\Local\\Temp\\ipykernel_956\\1727069999.py:2: FutureWarning: A value is trying to be set on a copy of a DataFrame or Series through chained assignment using an inplace method.\n",
      "The behavior will change in pandas 3.0. This inplace method will never work because the intermediate object on which we are setting values always behaves as a copy.\n",
      "\n",
      "For example, when doing 'df[col].method(value, inplace=True)', try using 'df.method({col: value}, inplace=True)' or df[col] = df[col].method(value) instead, to perform the operation inplace on the original object.\n",
      "\n",
      "\n",
      "  df['Integer_As_Object'].fillna(df['Integer_As_Object'].mean(), inplace=True)\n"
     ]
    }
   ],
   "source": [
    "# Fill NaN values with the mean price (ignoring NaNs)\n",
    "df['Integer_As_Object'].fillna(df['Integer_As_Object'].mean(), inplace=True)"
   ]
  },
  {
   "cell_type": "code",
   "execution_count": 107,
   "metadata": {},
   "outputs": [],
   "source": [
    "# Convert back to integer type\n",
    "df['Integer_As_Object'] = df['Integer_As_Object'].astype(int)"
   ]
  },
  {
   "cell_type": "code",
   "execution_count": 108,
   "metadata": {},
   "outputs": [
    {
     "data": {
      "text/plain": [
       "dtype('int64')"
      ]
     },
     "execution_count": 108,
     "metadata": {},
     "output_type": "execute_result"
    }
   ],
   "source": [
    "df[\"Integer_As_Object\"].dtype"
   ]
  },
  {
   "cell_type": "code",
   "execution_count": 109,
   "metadata": {},
   "outputs": [
    {
     "data": {
      "text/plain": [
       "Car_Type             0\n",
       "Brand                0\n",
       "Model                0\n",
       "Year                 0\n",
       "Mileage              0\n",
       "Fuel_Type            0\n",
       "Transmission         0\n",
       "Color                0\n",
       "Owner                0\n",
       "Price                0\n",
       "Engine_Size          0\n",
       "Seats                0\n",
       "Doors                0\n",
       "Location             0\n",
       "Integer_As_Object    0\n",
       "dtype: int64"
      ]
     },
     "execution_count": 109,
     "metadata": {},
     "output_type": "execute_result"
    }
   ],
   "source": [
    "df.isnull().sum()"
   ]
  },
  {
   "cell_type": "code",
   "execution_count": 110,
   "metadata": {},
   "outputs": [
    {
     "name": "stdout",
     "output_type": "stream",
     "text": [
      "<class 'pandas.core.frame.DataFrame'>\n",
      "Index: 30 entries, 0 to 29\n",
      "Data columns (total 15 columns):\n",
      " #   Column             Non-Null Count  Dtype  \n",
      "---  ------             --------------  -----  \n",
      " 0   Car_Type           30 non-null     object \n",
      " 1   Brand              30 non-null     object \n",
      " 2   Model              30 non-null     object \n",
      " 3   Year               30 non-null     float64\n",
      " 4   Mileage            30 non-null     float64\n",
      " 5   Fuel_Type          30 non-null     object \n",
      " 6   Transmission       30 non-null     object \n",
      " 7   Color              30 non-null     object \n",
      " 8   Owner              30 non-null     int64  \n",
      " 9   Price              30 non-null     int64  \n",
      " 10  Engine_Size        30 non-null     float64\n",
      " 11  Seats              30 non-null     int64  \n",
      " 12  Doors              30 non-null     int64  \n",
      " 13  Location           30 non-null     object \n",
      " 14  Integer_As_Object  30 non-null     int64  \n",
      "dtypes: float64(3), int64(5), object(7)\n",
      "memory usage: 3.8+ KB\n"
     ]
    }
   ],
   "source": [
    "df.info()"
   ]
  },
  {
   "cell_type": "code",
   "execution_count": null,
   "metadata": {},
   "outputs": [
    {
     "data": {
      "text/html": [
       "<div>\n",
       "<style scoped>\n",
       "    .dataframe tbody tr th:only-of-type {\n",
       "        vertical-align: middle;\n",
       "    }\n",
       "\n",
       "    .dataframe tbody tr th {\n",
       "        vertical-align: top;\n",
       "    }\n",
       "\n",
       "    .dataframe thead th {\n",
       "        text-align: right;\n",
       "    }\n",
       "</style>\n",
       "<table border=\"1\" class=\"dataframe\">\n",
       "  <thead>\n",
       "    <tr style=\"text-align: right;\">\n",
       "      <th></th>\n",
       "      <th>price</th>\n",
       "    </tr>\n",
       "  </thead>\n",
       "  <tbody>\n",
       "    <tr>\n",
       "      <th>0</th>\n",
       "      <td>22</td>\n",
       "    </tr>\n",
       "    <tr>\n",
       "      <th>1</th>\n",
       "      <td>-99</td>\n",
       "    </tr>\n",
       "    <tr>\n",
       "      <th>2</th>\n",
       "      <td>33</td>\n",
       "    </tr>\n",
       "    <tr>\n",
       "      <th>3</th>\n",
       "      <td>invalid</td>\n",
       "    </tr>\n",
       "    <tr>\n",
       "      <th>4</th>\n",
       "      <td>44</td>\n",
       "    </tr>\n",
       "    <tr>\n",
       "      <th>5</th>\n",
       "      <td>-70</td>\n",
       "    </tr>\n",
       "    <tr>\n",
       "      <th>6</th>\n",
       "      <td>-55</td>\n",
       "    </tr>\n",
       "    <tr>\n",
       "      <th>7</th>\n",
       "      <td>invalid</td>\n",
       "    </tr>\n",
       "  </tbody>\n",
       "</table>\n",
       "</div>"
      ],
      "text/plain": [
       "     price\n",
       "0       22\n",
       "1      -99\n",
       "2       33\n",
       "3  invalid\n",
       "4       44\n",
       "5      -70\n",
       "6      -55\n",
       "7  invalid"
      ]
     },
     "execution_count": 81,
     "metadata": {},
     "output_type": "execute_result"
    }
   ],
   "source": [
    "# EXAMPLE\n",
    "d = {\"price\": ['22', \"-99\",'33', 'invalid', \"44\", \"-70\", \"-55\", \"invalid\"]}\n",
    "data = pd.DataFrame(d)\n",
    "data"
   ]
  },
  {
   "cell_type": "markdown",
   "metadata": {},
   "source": [
    "### METHOD 1   recommended\n",
    "### ✅ to conver column object to numeric\n",
    "*  undertand the conversion of datatypes"
   ]
  },
  {
   "cell_type": "code",
   "execution_count": null,
   "metadata": {},
   "outputs": [
    {
     "data": {
      "text/html": [
       "<div>\n",
       "<style scoped>\n",
       "    .dataframe tbody tr th:only-of-type {\n",
       "        vertical-align: middle;\n",
       "    }\n",
       "\n",
       "    .dataframe tbody tr th {\n",
       "        vertical-align: top;\n",
       "    }\n",
       "\n",
       "    .dataframe thead th {\n",
       "        text-align: right;\n",
       "    }\n",
       "</style>\n",
       "<table border=\"1\" class=\"dataframe\">\n",
       "  <thead>\n",
       "    <tr style=\"text-align: right;\">\n",
       "      <th></th>\n",
       "      <th>Price</th>\n",
       "    </tr>\n",
       "  </thead>\n",
       "  <tbody>\n",
       "    <tr>\n",
       "      <th>0</th>\n",
       "      <td>20000</td>\n",
       "    </tr>\n",
       "    <tr>\n",
       "      <th>1</th>\n",
       "      <td>25000</td>\n",
       "    </tr>\n",
       "    <tr>\n",
       "      <th>2</th>\n",
       "      <td>30000</td>\n",
       "    </tr>\n",
       "    <tr>\n",
       "      <th>3</th>\n",
       "      <td>35000</td>\n",
       "    </tr>\n",
       "    <tr>\n",
       "      <th>4</th>\n",
       "      <td>40000</td>\n",
       "    </tr>\n",
       "  </tbody>\n",
       "</table>\n",
       "</div>"
      ],
      "text/plain": [
       "   Price\n",
       "0  20000\n",
       "1  25000\n",
       "2  30000\n",
       "3  35000\n",
       "4  40000"
      ]
     },
     "execution_count": 124,
     "metadata": {},
     "output_type": "execute_result"
    }
   ],
   "source": [
    "# actually the column \"price\" is int type but only due to 2 values 30000, 45000 this column move to object data type.\n",
    "# when convert object to int. then all values that store as str is now store as int type.\n",
    "data = {'Price': [20000, 25000, '30000', 35000, 40000, '45000', 50000, 55000]}\n",
    "aa = pd.DataFrame(data)\n",
    "aa.head()"
   ]
  },
  {
   "cell_type": "code",
   "execution_count": 125,
   "metadata": {},
   "outputs": [
    {
     "data": {
      "text/plain": [
       "array([20000, 25000, '30000', 35000, 40000, '45000', 50000, 55000],\n",
       "      dtype=object)"
      ]
     },
     "execution_count": 125,
     "metadata": {},
     "output_type": "execute_result"
    }
   ],
   "source": [
    "aa[\"Price\"].unique()"
   ]
  },
  {
   "cell_type": "code",
   "execution_count": null,
   "metadata": {},
   "outputs": [],
   "source": [
    "# aa['Price'] = aa['Price'].astype(int)  # Convert to integer    => another method\n",
    "aa['Price'] = pd.to_numeric(aa['Price'])  # Convert to integer"
   ]
  },
  {
   "cell_type": "code",
   "execution_count": 128,
   "metadata": {},
   "outputs": [
    {
     "data": {
      "text/plain": [
       "array([20000, 25000, 30000, 35000, 40000, 45000, 50000, 55000])"
      ]
     },
     "execution_count": 128,
     "metadata": {},
     "output_type": "execute_result"
    }
   ],
   "source": [
    "aa[\"Price\"].unique()"
   ]
  },
  {
   "cell_type": "code",
   "execution_count": 131,
   "metadata": {},
   "outputs": [
    {
     "data": {
      "text/plain": [
       "dtype('int64')"
      ]
     },
     "execution_count": 131,
     "metadata": {},
     "output_type": "execute_result"
    }
   ],
   "source": [
    "aa[\"Price\"].dtypes  # Check data types"
   ]
  },
  {
   "cell_type": "markdown",
   "metadata": {},
   "source": [
    "### METHOD 2\n",
    "### ✅ How to Identify and Convert String Values in a Numeric Column?"
   ]
  },
  {
   "cell_type": "code",
   "execution_count": null,
   "metadata": {},
   "outputs": [
    {
     "data": {
      "text/html": [
       "<div>\n",
       "<style scoped>\n",
       "    .dataframe tbody tr th:only-of-type {\n",
       "        vertical-align: middle;\n",
       "    }\n",
       "\n",
       "    .dataframe tbody tr th {\n",
       "        vertical-align: top;\n",
       "    }\n",
       "\n",
       "    .dataframe thead th {\n",
       "        text-align: right;\n",
       "    }\n",
       "</style>\n",
       "<table border=\"1\" class=\"dataframe\">\n",
       "  <thead>\n",
       "    <tr style=\"text-align: right;\">\n",
       "      <th></th>\n",
       "      <th>Price</th>\n",
       "    </tr>\n",
       "  </thead>\n",
       "  <tbody>\n",
       "    <tr>\n",
       "      <th>0</th>\n",
       "      <td>20000</td>\n",
       "    </tr>\n",
       "    <tr>\n",
       "      <th>1</th>\n",
       "      <td>25000</td>\n",
       "    </tr>\n",
       "    <tr>\n",
       "      <th>2</th>\n",
       "      <td>30000</td>\n",
       "    </tr>\n",
       "    <tr>\n",
       "      <th>3</th>\n",
       "      <td>35000</td>\n",
       "    </tr>\n",
       "    <tr>\n",
       "      <th>4</th>\n",
       "      <td>40000</td>\n",
       "    </tr>\n",
       "    <tr>\n",
       "      <th>5</th>\n",
       "      <td>45000</td>\n",
       "    </tr>\n",
       "    <tr>\n",
       "      <th>6</th>\n",
       "      <td>50000</td>\n",
       "    </tr>\n",
       "    <tr>\n",
       "      <th>7</th>\n",
       "      <td>55000</td>\n",
       "    </tr>\n",
       "  </tbody>\n",
       "</table>\n",
       "</div>"
      ],
      "text/plain": [
       "   Price\n",
       "0  20000\n",
       "1  25000\n",
       "2  30000\n",
       "3  35000\n",
       "4  40000\n",
       "5  45000\n",
       "6  50000\n",
       "7  55000"
      ]
     },
     "execution_count": 111,
     "metadata": {},
     "output_type": "execute_result"
    }
   ],
   "source": [
    "# Sample Data \n",
    "data = {'Price': [20000, 25000, '30000', 35000, 40000, '45000', 50000, 55000]}\n",
    "df = pd.DataFrame(data)\n",
    "df"
   ]
  },
  {
   "cell_type": "code",
   "execution_count": null,
   "metadata": {},
   "outputs": [
    {
     "data": {
      "text/plain": [
       "array([20000, 25000, '30000', 35000, 40000, '45000', 50000, 55000],\n",
       "      dtype=object)"
      ]
     },
     "execution_count": 112,
     "metadata": {},
     "output_type": "execute_result"
    }
   ],
   "source": [
    "df[\"Price\"].unique() # in this we can easily check that 30000 and 45000 is store as a string. \n",
    "# but if rows have 2 lac then it is difficult that with this unique() method to understand \n",
    "# which 2 values is store as string."
   ]
  },
  {
   "cell_type": "code",
   "execution_count": 113,
   "metadata": {},
   "outputs": [
    {
     "data": {
      "text/plain": [
       "Price\n",
       "20000    1\n",
       "25000    1\n",
       "30000    1\n",
       "35000    1\n",
       "40000    1\n",
       "45000    1\n",
       "50000    1\n",
       "55000    1\n",
       "Name: count, dtype: int64"
      ]
     },
     "execution_count": 113,
     "metadata": {},
     "output_type": "execute_result"
    }
   ],
   "source": [
    "df[\"Price\"].value_counts()"
   ]
  },
  {
   "cell_type": "code",
   "execution_count": 115,
   "metadata": {},
   "outputs": [
    {
     "data": {
      "text/html": [
       "<div>\n",
       "<style scoped>\n",
       "    .dataframe tbody tr th:only-of-type {\n",
       "        vertical-align: middle;\n",
       "    }\n",
       "\n",
       "    .dataframe tbody tr th {\n",
       "        vertical-align: top;\n",
       "    }\n",
       "\n",
       "    .dataframe thead th {\n",
       "        text-align: right;\n",
       "    }\n",
       "</style>\n",
       "<table border=\"1\" class=\"dataframe\">\n",
       "  <thead>\n",
       "    <tr style=\"text-align: right;\">\n",
       "      <th></th>\n",
       "      <th>Price</th>\n",
       "    </tr>\n",
       "  </thead>\n",
       "  <tbody>\n",
       "  </tbody>\n",
       "</table>\n",
       "</div>"
      ],
      "text/plain": [
       "Empty DataFrame\n",
       "Columns: [Price]\n",
       "Index: []"
      ]
     },
     "execution_count": 115,
     "metadata": {},
     "output_type": "execute_result"
    }
   ],
   "source": [
    "\n",
    "# Identify non-numeric values\n",
    "non_numeric = df[~df['Price'].astype(str).str.isdigit()]  # Check where values are not purely digits\n",
    "#print(\"Non-numeric values:\\n\", non_numeric)\n",
    "non_numeric"
   ]
  },
  {
   "cell_type": "code",
   "execution_count": 118,
   "metadata": {},
   "outputs": [
    {
     "data": {
      "text/html": [
       "<div>\n",
       "<style scoped>\n",
       "    .dataframe tbody tr th:only-of-type {\n",
       "        vertical-align: middle;\n",
       "    }\n",
       "\n",
       "    .dataframe tbody tr th {\n",
       "        vertical-align: top;\n",
       "    }\n",
       "\n",
       "    .dataframe thead th {\n",
       "        text-align: right;\n",
       "    }\n",
       "</style>\n",
       "<table border=\"1\" class=\"dataframe\">\n",
       "  <thead>\n",
       "    <tr style=\"text-align: right;\">\n",
       "      <th></th>\n",
       "      <th>Price</th>\n",
       "    </tr>\n",
       "  </thead>\n",
       "  <tbody>\n",
       "  </tbody>\n",
       "</table>\n",
       "</div>"
      ],
      "text/plain": [
       "Empty DataFrame\n",
       "Columns: [Price]\n",
       "Index: []"
      ]
     },
     "execution_count": 118,
     "metadata": {},
     "output_type": "execute_result"
    }
   ],
   "source": [
    "# Alternative Method: Using pd.to_numeric()\n",
    "\n",
    "df['Price'] = pd.to_numeric(df['Price'], errors='coerce')  # Converts valid numbers, sets invalid ones to NaN\n",
    "non_numeric = df[df['Price'].isna()]  # Get rows where conversion failed\n",
    "non_numeric"
   ]
  },
  {
   "cell_type": "code",
   "execution_count": 119,
   "metadata": {},
   "outputs": [
    {
     "data": {
      "text/plain": [
       "array([20000, 25000, 30000, 35000, 40000, 45000, 50000, 55000])"
      ]
     },
     "execution_count": 119,
     "metadata": {},
     "output_type": "execute_result"
    }
   ],
   "source": [
    "df[\"Price\"].unique()"
   ]
  },
  {
   "cell_type": "markdown",
   "metadata": {},
   "source": [
    "### METHOD 3\n",
    "### ✅ Code to Find String Values in the \"Price\" Column"
   ]
  },
  {
   "cell_type": "code",
   "execution_count": 144,
   "metadata": {},
   "outputs": [],
   "source": [
    "\n",
    "# Create DataFrame\n",
    "data = {'Price': [20000, 25000, '30000', 35000, 40000, '45000', 50000, 55000]}\n",
    "zz = pd.DataFrame(data)"
   ]
  },
  {
   "cell_type": "code",
   "execution_count": 145,
   "metadata": {},
   "outputs": [
    {
     "data": {
      "text/plain": [
       "0    False\n",
       "1    False\n",
       "2     True\n",
       "3    False\n",
       "4    False\n",
       "5     True\n",
       "6    False\n",
       "7    False\n",
       "Name: Price, dtype: bool"
      ]
     },
     "execution_count": 145,
     "metadata": {},
     "output_type": "execute_result"
    }
   ],
   "source": [
    "# Identify values that are stored as strings\n",
    "string_values = zz['Price'].apply(lambda x: isinstance(x, str))\n",
    "string_values"
   ]
  },
  {
   "cell_type": "code",
   "execution_count": 146,
   "metadata": {},
   "outputs": [
    {
     "data": {
      "text/html": [
       "<div>\n",
       "<style scoped>\n",
       "    .dataframe tbody tr th:only-of-type {\n",
       "        vertical-align: middle;\n",
       "    }\n",
       "\n",
       "    .dataframe tbody tr th {\n",
       "        vertical-align: top;\n",
       "    }\n",
       "\n",
       "    .dataframe thead th {\n",
       "        text-align: right;\n",
       "    }\n",
       "</style>\n",
       "<table border=\"1\" class=\"dataframe\">\n",
       "  <thead>\n",
       "    <tr style=\"text-align: right;\">\n",
       "      <th></th>\n",
       "      <th>Price</th>\n",
       "    </tr>\n",
       "  </thead>\n",
       "  <tbody>\n",
       "    <tr>\n",
       "      <th>2</th>\n",
       "      <td>30000</td>\n",
       "    </tr>\n",
       "    <tr>\n",
       "      <th>5</th>\n",
       "      <td>45000</td>\n",
       "    </tr>\n",
       "  </tbody>\n",
       "</table>\n",
       "</div>"
      ],
      "text/plain": [
       "   Price\n",
       "2  30000\n",
       "5  45000"
      ]
     },
     "execution_count": 146,
     "metadata": {},
     "output_type": "execute_result"
    }
   ],
   "source": [
    "# Fetch only string-stored values\n",
    "string_stored_prices = zz[string_values]\n",
    "string_stored_prices"
   ]
  },
  {
   "cell_type": "code",
   "execution_count": 147,
   "metadata": {},
   "outputs": [
    {
     "name": "stdout",
     "output_type": "stream",
     "text": [
      "Values stored as strings:\n"
     ]
    },
    {
     "data": {
      "text/html": [
       "<div>\n",
       "<style scoped>\n",
       "    .dataframe tbody tr th:only-of-type {\n",
       "        vertical-align: middle;\n",
       "    }\n",
       "\n",
       "    .dataframe tbody tr th {\n",
       "        vertical-align: top;\n",
       "    }\n",
       "\n",
       "    .dataframe thead th {\n",
       "        text-align: right;\n",
       "    }\n",
       "</style>\n",
       "<table border=\"1\" class=\"dataframe\">\n",
       "  <thead>\n",
       "    <tr style=\"text-align: right;\">\n",
       "      <th></th>\n",
       "      <th>Price</th>\n",
       "    </tr>\n",
       "  </thead>\n",
       "  <tbody>\n",
       "    <tr>\n",
       "      <th>2</th>\n",
       "      <td>30000</td>\n",
       "    </tr>\n",
       "    <tr>\n",
       "      <th>5</th>\n",
       "      <td>45000</td>\n",
       "    </tr>\n",
       "  </tbody>\n",
       "</table>\n",
       "</div>"
      ],
      "text/plain": [
       "   Price\n",
       "2  30000\n",
       "5  45000"
      ]
     },
     "execution_count": 147,
     "metadata": {},
     "output_type": "execute_result"
    }
   ],
   "source": [
    "print(\"Values stored as strings:\")        \n",
    "string_stored_prices"
   ]
  },
  {
   "cell_type": "code",
   "execution_count": 148,
   "metadata": {},
   "outputs": [
    {
     "data": {
      "text/plain": [
       "dtype('O')"
      ]
     },
     "execution_count": 148,
     "metadata": {},
     "output_type": "execute_result"
    }
   ],
   "source": [
    "zz[\"Price\"].dtype"
   ]
  },
  {
   "cell_type": "code",
   "execution_count": 149,
   "metadata": {},
   "outputs": [
    {
     "name": "stderr",
     "output_type": "stream",
     "text": [
      "C:\\Users\\Mc\\AppData\\Local\\Temp\\ipykernel_956\\2684778279.py:1: FutureWarning: Downcasting behavior in `replace` is deprecated and will be removed in a future version. To retain the old behavior, explicitly call `result.infer_objects(copy=False)`. To opt-in to the future behavior, set `pd.set_option('future.no_silent_downcasting', True)`\n",
      "  zz.replace({'Price': {'30000': 30000, '45000': 45000}}, inplace=True)\n"
     ]
    }
   ],
   "source": [
    "zz.replace({'Price': {'30000': 30000, '45000': 45000}}, inplace=True)"
   ]
  },
  {
   "cell_type": "code",
   "execution_count": 150,
   "metadata": {},
   "outputs": [
    {
     "data": {
      "text/plain": [
       "dtype('int64')"
      ]
     },
     "execution_count": 150,
     "metadata": {},
     "output_type": "execute_result"
    }
   ],
   "source": [
    "zz[\"Price\"].dtype"
   ]
  },
  {
   "cell_type": "markdown",
   "metadata": {},
   "source": [
    "### ✅ IF INVALID VALUES Example"
   ]
  },
  {
   "cell_type": "code",
   "execution_count": 139,
   "metadata": {},
   "outputs": [
    {
     "data": {
      "text/html": [
       "<div>\n",
       "<style scoped>\n",
       "    .dataframe tbody tr th:only-of-type {\n",
       "        vertical-align: middle;\n",
       "    }\n",
       "\n",
       "    .dataframe tbody tr th {\n",
       "        vertical-align: top;\n",
       "    }\n",
       "\n",
       "    .dataframe thead th {\n",
       "        text-align: right;\n",
       "    }\n",
       "</style>\n",
       "<table border=\"1\" class=\"dataframe\">\n",
       "  <thead>\n",
       "    <tr style=\"text-align: right;\">\n",
       "      <th></th>\n",
       "      <th>Price</th>\n",
       "    </tr>\n",
       "  </thead>\n",
       "  <tbody>\n",
       "    <tr>\n",
       "      <th>0</th>\n",
       "      <td>20000</td>\n",
       "    </tr>\n",
       "    <tr>\n",
       "      <th>1</th>\n",
       "      <td>25000</td>\n",
       "    </tr>\n",
       "    <tr>\n",
       "      <th>2</th>\n",
       "      <td>30000</td>\n",
       "    </tr>\n",
       "    <tr>\n",
       "      <th>3</th>\n",
       "      <td>35000</td>\n",
       "    </tr>\n",
       "    <tr>\n",
       "      <th>4</th>\n",
       "      <td>40000</td>\n",
       "    </tr>\n",
       "    <tr>\n",
       "      <th>5</th>\n",
       "      <td>45000meter</td>\n",
       "    </tr>\n",
       "    <tr>\n",
       "      <th>6</th>\n",
       "      <td>50000</td>\n",
       "    </tr>\n",
       "    <tr>\n",
       "      <th>7</th>\n",
       "      <td>55000yh</td>\n",
       "    </tr>\n",
       "  </tbody>\n",
       "</table>\n",
       "</div>"
      ],
      "text/plain": [
       "        Price\n",
       "0       20000\n",
       "1       25000\n",
       "2       30000\n",
       "3       35000\n",
       "4       40000\n",
       "5  45000meter\n",
       "6       50000\n",
       "7     55000yh"
      ]
     },
     "execution_count": 139,
     "metadata": {},
     "output_type": "execute_result"
    }
   ],
   "source": [
    "data = {'Price': [20000, 25000, '30000', 35000, 40000, '45000meter', 50000, '55000yh']} \n",
    "zz = pd.DataFrame(data)\n",
    "zz"
   ]
  },
  {
   "cell_type": "code",
   "execution_count": 143,
   "metadata": {},
   "outputs": [],
   "source": [
    "zz['Price'] = pd.to_numeric(zz['Price'], errors='coerce').fillna(0).astype(int)  # Replace NaN with 0 (or any integer)\n"
   ]
  },
  {
   "cell_type": "code",
   "execution_count": null,
   "metadata": {},
   "outputs": [
    {
     "data": {
      "text/html": [
       "<div>\n",
       "<style scoped>\n",
       "    .dataframe tbody tr th:only-of-type {\n",
       "        vertical-align: middle;\n",
       "    }\n",
       "\n",
       "    .dataframe tbody tr th {\n",
       "        vertical-align: top;\n",
       "    }\n",
       "\n",
       "    .dataframe thead th {\n",
       "        text-align: right;\n",
       "    }\n",
       "</style>\n",
       "<table border=\"1\" class=\"dataframe\">\n",
       "  <thead>\n",
       "    <tr style=\"text-align: right;\">\n",
       "      <th></th>\n",
       "      <th>Price</th>\n",
       "    </tr>\n",
       "  </thead>\n",
       "  <tbody>\n",
       "    <tr>\n",
       "      <th>0</th>\n",
       "      <td>20000</td>\n",
       "    </tr>\n",
       "    <tr>\n",
       "      <th>1</th>\n",
       "      <td>25000</td>\n",
       "    </tr>\n",
       "    <tr>\n",
       "      <th>2</th>\n",
       "      <td>30000</td>\n",
       "    </tr>\n",
       "    <tr>\n",
       "      <th>3</th>\n",
       "      <td>35000</td>\n",
       "    </tr>\n",
       "    <tr>\n",
       "      <th>4</th>\n",
       "      <td>40000</td>\n",
       "    </tr>\n",
       "    <tr>\n",
       "      <th>5</th>\n",
       "      <td>0</td>\n",
       "    </tr>\n",
       "    <tr>\n",
       "      <th>6</th>\n",
       "      <td>50000</td>\n",
       "    </tr>\n",
       "    <tr>\n",
       "      <th>7</th>\n",
       "      <td>0</td>\n",
       "    </tr>\n",
       "  </tbody>\n",
       "</table>\n",
       "</div>"
      ],
      "text/plain": [
       "   Price\n",
       "0  20000\n",
       "1  25000\n",
       "2  30000\n",
       "3  35000\n",
       "4  40000\n",
       "5      0\n",
       "6  50000\n",
       "7      0"
      ]
     },
     "execution_count": 142,
     "metadata": {},
     "output_type": "execute_result"
    }
   ],
   "source": [
    "zz  "
   ]
  },
  {
   "cell_type": "markdown",
   "metadata": {},
   "source": [
    "1. Convert valid numbers to integers.\n",
    "2. Replace invalid values (like '45000meter') with NaN.\n",
    "3. Replace NaN values with 0 (or any integer you prefer)."
   ]
  },
  {
   "cell_type": "markdown",
   "metadata": {},
   "source": [
    "### ✅ Handling Large Datasets (e.g., 2 Million Rows)\n",
    "* If the Price column has 2 million rows, and you want to check whether only a few values are stored as strings, then:"
   ]
  },
  {
   "cell_type": "code",
   "execution_count": null,
   "metadata": {},
   "outputs": [],
   "source": [
    "# Check how many string values exist in the column:\n",
    "count_strings = df['Price'].apply(lambda x: isinstance(x, str)).sum()\n",
    "print(\"Number of string values:\", count_strings)\n"
   ]
  },
  {
   "cell_type": "code",
   "execution_count": null,
   "metadata": {},
   "outputs": [],
   "source": [
    "# If only a few values are strings, print them:\n",
    "if count_strings > 0:\n",
    "    print(\"String-stored values in Price column:\", df[df['Price'].apply(lambda x: isinstance(x, str))])\n"
   ]
  },
  {
   "cell_type": "code",
   "execution_count": null,
   "metadata": {},
   "outputs": [],
   "source": [
    "# If all values are integers, convert the column to int:\n",
    "if count_strings == 0:\n",
    "    df['Price'] = df['Price'].astype(int)\n",
    "    print(\"Price column converted to integer type.\")\n"
   ]
  },
  {
   "cell_type": "markdown",
   "metadata": {},
   "source": [
    "🔹 Final Notes\n",
    "* If some values are stored as strings, the column remains object.\n",
    "* If no values are stored as strings, you can safely convert the column to int type.\n",
    "* This method ensures that only those few incorrect string values are identified without scanning all 2 million rows * manually! 🚀 Let me know if you need more help!"
   ]
  },
  {
   "cell_type": "markdown",
   "metadata": {},
   "source": [
    "##  Incorrect Entries    🎀🎀🎀🎀"
   ]
  },
  {
   "cell_type": "markdown",
   "metadata": {},
   "source": [
    "### ✅ How to Identify and Deal with Incorrect Entries in a Dataset?\n",
    "* Incorrect entries occur when values don't make sense in a given context, like negative mileage, zero engine size, or unrealistic car prices. These errors can come from human mistakes, system issues, or faulty data collection."
   ]
  },
  {
   "cell_type": "markdown",
   "metadata": {},
   "source": [
    "* Step 1: Identify Incorrect Entries"
   ]
  },
  {
   "cell_type": "code",
   "execution_count": 10,
   "metadata": {},
   "outputs": [
    {
     "data": {
      "text/html": [
       "<div>\n",
       "<style scoped>\n",
       "    .dataframe tbody tr th:only-of-type {\n",
       "        vertical-align: middle;\n",
       "    }\n",
       "\n",
       "    .dataframe tbody tr th {\n",
       "        vertical-align: top;\n",
       "    }\n",
       "\n",
       "    .dataframe thead th {\n",
       "        text-align: right;\n",
       "    }\n",
       "</style>\n",
       "<table border=\"1\" class=\"dataframe\">\n",
       "  <thead>\n",
       "    <tr style=\"text-align: right;\">\n",
       "      <th></th>\n",
       "      <th>Mileage</th>\n",
       "      <th>Engine_Size</th>\n",
       "      <th>Price</th>\n",
       "    </tr>\n",
       "  </thead>\n",
       "  <tbody>\n",
       "    <tr>\n",
       "      <th>0</th>\n",
       "      <td>15000</td>\n",
       "      <td>2.0</td>\n",
       "      <td>25000</td>\n",
       "    </tr>\n",
       "    <tr>\n",
       "      <th>1</th>\n",
       "      <td>-20000</td>\n",
       "      <td>1.5</td>\n",
       "      <td>18000</td>\n",
       "    </tr>\n",
       "    <tr>\n",
       "      <th>2</th>\n",
       "      <td>30000</td>\n",
       "      <td>0.0</td>\n",
       "      <td>0</td>\n",
       "    </tr>\n",
       "    <tr>\n",
       "      <th>3</th>\n",
       "      <td>18000</td>\n",
       "      <td>3.0</td>\n",
       "      <td>50000</td>\n",
       "    </tr>\n",
       "    <tr>\n",
       "      <th>4</th>\n",
       "      <td>-5000</td>\n",
       "      <td>-1.0</td>\n",
       "      <td>-10000</td>\n",
       "    </tr>\n",
       "  </tbody>\n",
       "</table>\n",
       "</div>"
      ],
      "text/plain": [
       "   Mileage  Engine_Size  Price\n",
       "0    15000          2.0  25000\n",
       "1   -20000          1.5  18000\n",
       "2    30000          0.0      0\n",
       "3    18000          3.0  50000\n",
       "4    -5000         -1.0 -10000"
      ]
     },
     "execution_count": 10,
     "metadata": {},
     "output_type": "execute_result"
    }
   ],
   "source": [
    "# 1️⃣ Detect Negative or Unrealistic Values\n",
    "# Use filtering in Pandas to find incorrect values:\n",
    "\n",
    "import pandas as pd\n",
    "\n",
    "# Sample dataset with incorrect values\n",
    "data = {'Mileage': [15000, -20000, 30000, 18000, -5000],\n",
    "        'Engine_Size': [2.0, 1.5, 0.0, 3.0, -1.0],\n",
    "        'Price': [25000, 18000, 0, 50000, -10000]}  \n",
    "\n",
    "df = pd.DataFrame(data)\n",
    "df"
   ]
  },
  {
   "cell_type": "code",
   "execution_count": 11,
   "metadata": {},
   "outputs": [
    {
     "data": {
      "text/html": [
       "<div>\n",
       "<style scoped>\n",
       "    .dataframe tbody tr th:only-of-type {\n",
       "        vertical-align: middle;\n",
       "    }\n",
       "\n",
       "    .dataframe tbody tr th {\n",
       "        vertical-align: top;\n",
       "    }\n",
       "\n",
       "    .dataframe thead th {\n",
       "        text-align: right;\n",
       "    }\n",
       "</style>\n",
       "<table border=\"1\" class=\"dataframe\">\n",
       "  <thead>\n",
       "    <tr style=\"text-align: right;\">\n",
       "      <th></th>\n",
       "      <th>Mileage</th>\n",
       "      <th>Engine_Size</th>\n",
       "      <th>Price</th>\n",
       "    </tr>\n",
       "  </thead>\n",
       "  <tbody>\n",
       "    <tr>\n",
       "      <th>1</th>\n",
       "      <td>-20000</td>\n",
       "      <td>1.5</td>\n",
       "      <td>18000</td>\n",
       "    </tr>\n",
       "    <tr>\n",
       "      <th>4</th>\n",
       "      <td>-5000</td>\n",
       "      <td>-1.0</td>\n",
       "      <td>-10000</td>\n",
       "    </tr>\n",
       "  </tbody>\n",
       "</table>\n",
       "</div>"
      ],
      "text/plain": [
       "   Mileage  Engine_Size  Price\n",
       "1   -20000          1.5  18000\n",
       "4    -5000         -1.0 -10000"
      ]
     },
     "execution_count": 11,
     "metadata": {},
     "output_type": "execute_result"
    }
   ],
   "source": [
    "# Find negative mileage\n",
    "invalid_mileage = df[df['Mileage'] < 0]\n",
    "#print(\"Incorrect Mileage:\\n\", invalid_mileage)\n",
    "invalid_mileage"
   ]
  },
  {
   "cell_type": "code",
   "execution_count": 12,
   "metadata": {},
   "outputs": [
    {
     "data": {
      "text/html": [
       "<div>\n",
       "<style scoped>\n",
       "    .dataframe tbody tr th:only-of-type {\n",
       "        vertical-align: middle;\n",
       "    }\n",
       "\n",
       "    .dataframe tbody tr th {\n",
       "        vertical-align: top;\n",
       "    }\n",
       "\n",
       "    .dataframe thead th {\n",
       "        text-align: right;\n",
       "    }\n",
       "</style>\n",
       "<table border=\"1\" class=\"dataframe\">\n",
       "  <thead>\n",
       "    <tr style=\"text-align: right;\">\n",
       "      <th></th>\n",
       "      <th>Mileage</th>\n",
       "      <th>Engine_Size</th>\n",
       "      <th>Price</th>\n",
       "    </tr>\n",
       "  </thead>\n",
       "  <tbody>\n",
       "    <tr>\n",
       "      <th>2</th>\n",
       "      <td>30000</td>\n",
       "      <td>0.0</td>\n",
       "      <td>0</td>\n",
       "    </tr>\n",
       "    <tr>\n",
       "      <th>4</th>\n",
       "      <td>-5000</td>\n",
       "      <td>-1.0</td>\n",
       "      <td>-10000</td>\n",
       "    </tr>\n",
       "  </tbody>\n",
       "</table>\n",
       "</div>"
      ],
      "text/plain": [
       "   Mileage  Engine_Size  Price\n",
       "2    30000          0.0      0\n",
       "4    -5000         -1.0 -10000"
      ]
     },
     "execution_count": 12,
     "metadata": {},
     "output_type": "execute_result"
    }
   ],
   "source": [
    "# Find zero or negative engine sizes\n",
    "invalid_engine = df[df['Engine_Size'] <= 0]\n",
    "# print(\"Incorrect Engine Size:\\n\", invalid_engine)\n",
    "invalid_engine"
   ]
  },
  {
   "cell_type": "code",
   "execution_count": 13,
   "metadata": {},
   "outputs": [
    {
     "data": {
      "text/html": [
       "<div>\n",
       "<style scoped>\n",
       "    .dataframe tbody tr th:only-of-type {\n",
       "        vertical-align: middle;\n",
       "    }\n",
       "\n",
       "    .dataframe tbody tr th {\n",
       "        vertical-align: top;\n",
       "    }\n",
       "\n",
       "    .dataframe thead th {\n",
       "        text-align: right;\n",
       "    }\n",
       "</style>\n",
       "<table border=\"1\" class=\"dataframe\">\n",
       "  <thead>\n",
       "    <tr style=\"text-align: right;\">\n",
       "      <th></th>\n",
       "      <th>Mileage</th>\n",
       "      <th>Engine_Size</th>\n",
       "      <th>Price</th>\n",
       "    </tr>\n",
       "  </thead>\n",
       "  <tbody>\n",
       "    <tr>\n",
       "      <th>2</th>\n",
       "      <td>30000</td>\n",
       "      <td>0.0</td>\n",
       "      <td>0</td>\n",
       "    </tr>\n",
       "    <tr>\n",
       "      <th>4</th>\n",
       "      <td>-5000</td>\n",
       "      <td>-1.0</td>\n",
       "      <td>-10000</td>\n",
       "    </tr>\n",
       "  </tbody>\n",
       "</table>\n",
       "</div>"
      ],
      "text/plain": [
       "   Mileage  Engine_Size  Price\n",
       "2    30000          0.0      0\n",
       "4    -5000         -1.0 -10000"
      ]
     },
     "execution_count": 13,
     "metadata": {},
     "output_type": "execute_result"
    }
   ],
   "source": [
    "# Find zero or negative prices\n",
    "invalid_price = df[df['Price'] <= 0]\n",
    "#print(\"Incorrect Prices:\\n\", invalid_price)\n",
    "invalid_price\n",
    "# ✅ This helps identify incorrect values."
   ]
  },
  {
   "cell_type": "markdown",
   "metadata": {},
   "source": [
    "* Step 2: Handle Incorrect Entries"
   ]
  },
  {
   "cell_type": "code",
   "execution_count": 14,
   "metadata": {},
   "outputs": [
    {
     "data": {
      "text/html": [
       "<div>\n",
       "<style scoped>\n",
       "    .dataframe tbody tr th:only-of-type {\n",
       "        vertical-align: middle;\n",
       "    }\n",
       "\n",
       "    .dataframe tbody tr th {\n",
       "        vertical-align: top;\n",
       "    }\n",
       "\n",
       "    .dataframe thead th {\n",
       "        text-align: right;\n",
       "    }\n",
       "</style>\n",
       "<table border=\"1\" class=\"dataframe\">\n",
       "  <thead>\n",
       "    <tr style=\"text-align: right;\">\n",
       "      <th></th>\n",
       "      <th>Mileage</th>\n",
       "      <th>Engine_Size</th>\n",
       "      <th>Price</th>\n",
       "    </tr>\n",
       "  </thead>\n",
       "  <tbody>\n",
       "    <tr>\n",
       "      <th>0</th>\n",
       "      <td>15000</td>\n",
       "      <td>2.0</td>\n",
       "      <td>25000</td>\n",
       "    </tr>\n",
       "    <tr>\n",
       "      <th>1</th>\n",
       "      <td>-20000</td>\n",
       "      <td>1.5</td>\n",
       "      <td>18000</td>\n",
       "    </tr>\n",
       "    <tr>\n",
       "      <th>3</th>\n",
       "      <td>18000</td>\n",
       "      <td>3.0</td>\n",
       "      <td>50000</td>\n",
       "    </tr>\n",
       "  </tbody>\n",
       "</table>\n",
       "</div>"
      ],
      "text/plain": [
       "   Mileage  Engine_Size  Price\n",
       "0    15000          2.0  25000\n",
       "1   -20000          1.5  18000\n",
       "3    18000          3.0  50000"
      ]
     },
     "execution_count": 14,
     "metadata": {},
     "output_type": "execute_result"
    }
   ],
   "source": [
    "# 1️⃣ Drop Invalid Rows (If Clearly Wrong)\n",
    "# If values are completely incorrect (like negative prices), remove them:\n",
    "\n",
    "df = df[df['Price'] > 0]  # Remove negative or zero prices\n",
    "df"
   ]
  },
  {
   "cell_type": "code",
   "execution_count": 15,
   "metadata": {},
   "outputs": [
    {
     "data": {
      "text/html": [
       "<div>\n",
       "<style scoped>\n",
       "    .dataframe tbody tr th:only-of-type {\n",
       "        vertical-align: middle;\n",
       "    }\n",
       "\n",
       "    .dataframe tbody tr th {\n",
       "        vertical-align: top;\n",
       "    }\n",
       "\n",
       "    .dataframe thead th {\n",
       "        text-align: right;\n",
       "    }\n",
       "</style>\n",
       "<table border=\"1\" class=\"dataframe\">\n",
       "  <thead>\n",
       "    <tr style=\"text-align: right;\">\n",
       "      <th></th>\n",
       "      <th>Mileage</th>\n",
       "      <th>Engine_Size</th>\n",
       "      <th>Price</th>\n",
       "    </tr>\n",
       "  </thead>\n",
       "  <tbody>\n",
       "    <tr>\n",
       "      <th>0</th>\n",
       "      <td>15000</td>\n",
       "      <td>2.0</td>\n",
       "      <td>25000</td>\n",
       "    </tr>\n",
       "    <tr>\n",
       "      <th>3</th>\n",
       "      <td>18000</td>\n",
       "      <td>3.0</td>\n",
       "      <td>50000</td>\n",
       "    </tr>\n",
       "  </tbody>\n",
       "</table>\n",
       "</div>"
      ],
      "text/plain": [
       "   Mileage  Engine_Size  Price\n",
       "0    15000          2.0  25000\n",
       "3    18000          3.0  50000"
      ]
     },
     "execution_count": 15,
     "metadata": {},
     "output_type": "execute_result"
    }
   ],
   "source": [
    "df = df[df['Mileage'] >= 0]  # Remove negative mileage\n",
    "df"
   ]
  },
  {
   "cell_type": "code",
   "execution_count": null,
   "metadata": {},
   "outputs": [
    {
     "data": {
      "text/html": [
       "<div>\n",
       "<style scoped>\n",
       "    .dataframe tbody tr th:only-of-type {\n",
       "        vertical-align: middle;\n",
       "    }\n",
       "\n",
       "    .dataframe tbody tr th {\n",
       "        vertical-align: top;\n",
       "    }\n",
       "\n",
       "    .dataframe thead th {\n",
       "        text-align: right;\n",
       "    }\n",
       "</style>\n",
       "<table border=\"1\" class=\"dataframe\">\n",
       "  <thead>\n",
       "    <tr style=\"text-align: right;\">\n",
       "      <th></th>\n",
       "      <th>Mileage</th>\n",
       "      <th>Engine_Size</th>\n",
       "      <th>Price</th>\n",
       "    </tr>\n",
       "  </thead>\n",
       "  <tbody>\n",
       "    <tr>\n",
       "      <th>0</th>\n",
       "      <td>15000</td>\n",
       "      <td>2.0</td>\n",
       "      <td>25000</td>\n",
       "    </tr>\n",
       "    <tr>\n",
       "      <th>3</th>\n",
       "      <td>18000</td>\n",
       "      <td>3.0</td>\n",
       "      <td>50000</td>\n",
       "    </tr>\n",
       "  </tbody>\n",
       "</table>\n",
       "</div>"
      ],
      "text/plain": [
       "   Mileage  Engine_Size  Price\n",
       "0    15000          2.0  25000\n",
       "3    18000          3.0  50000"
      ]
     },
     "execution_count": 16,
     "metadata": {},
     "output_type": "execute_result"
    }
   ],
   "source": [
    "df = df[df['Engine_Size'] > 0]  # Remove zero or negative engine size. \n",
    "df"
   ]
  },
  {
   "cell_type": "code",
   "execution_count": null,
   "metadata": {},
   "outputs": [],
   "source": [
    "#2️⃣ Replace with Mean/Median (If Possible to Fix)\n",
    "#If values are missing or incorrect but still usable, replace them with the median or mean:\n",
    "df['Mileage'] = df['Mileage'].apply(lambda x: df['Mileage'].median() if x < 0 else x)\n",
    "df['Engine_Size'] = df['Engine_Size'].apply(lambda x: df['Engine_Size'].median() if x <= 0 else x)\n",
    "#✅ This replaces incorrect values with more reasonable ones."
   ]
  },
  {
   "cell_type": "code",
   "execution_count": null,
   "metadata": {},
   "outputs": [],
   "source": [
    "# df['Mileage'] = df['Mileage'].apply(lambda x: 2000 if x < 0 else x)  => You want to check each value x, \n",
    "# and if it's negative, return 2000, else return x.\n",
    "# df.loc[df['Mileage'] < 0, 'Mileage'] = 2000\n"
   ]
  },
  {
   "cell_type": "code",
   "execution_count": null,
   "metadata": {},
   "outputs": [],
   "source": [
    "# 3️⃣ Use Domain Knowledge for Correction\n",
    "# If Engine_Size = 0, check if it belongs to an electric vehicle. If yes, set Engine_Size = NaN.\n",
    "# If Mileage is negative, it might be a data entry error. Convert to absolute value if it makes sense:\n",
    "df['Mileage'] = df['Mileage'].abs()  # Convert negatives to positives"
   ]
  },
  {
   "cell_type": "markdown",
   "metadata": {},
   "source": [
    "## How to Identify and Deal with Category Standardization Issues?  🎀🎀🎀🎀"
   ]
  },
  {
   "cell_type": "markdown",
   "metadata": {},
   "source": [
    "* In datasets, categorical values may be inconsistent due to typos, case differences, or abbreviations. For example, the same car type might appear as \"Sedan\", \"sedan\", \"SEDN\", causing problems in analysis and modeling."
   ]
  },
  {
   "cell_type": "markdown",
   "metadata": {},
   "source": [
    "* Step 1: Identify Inconsistent Categories"
   ]
  },
  {
   "cell_type": "code",
   "execution_count": 1,
   "metadata": {},
   "outputs": [
    {
     "data": {
      "text/html": [
       "<div>\n",
       "<style scoped>\n",
       "    .dataframe tbody tr th:only-of-type {\n",
       "        vertical-align: middle;\n",
       "    }\n",
       "\n",
       "    .dataframe tbody tr th {\n",
       "        vertical-align: top;\n",
       "    }\n",
       "\n",
       "    .dataframe thead th {\n",
       "        text-align: right;\n",
       "    }\n",
       "</style>\n",
       "<table border=\"1\" class=\"dataframe\">\n",
       "  <thead>\n",
       "    <tr style=\"text-align: right;\">\n",
       "      <th></th>\n",
       "      <th>Car_Type</th>\n",
       "    </tr>\n",
       "  </thead>\n",
       "  <tbody>\n",
       "    <tr>\n",
       "      <th>0</th>\n",
       "      <td>Sedan</td>\n",
       "    </tr>\n",
       "    <tr>\n",
       "      <th>1</th>\n",
       "      <td>sedan</td>\n",
       "    </tr>\n",
       "    <tr>\n",
       "      <th>2</th>\n",
       "      <td>SUV</td>\n",
       "    </tr>\n",
       "    <tr>\n",
       "      <th>3</th>\n",
       "      <td>suv</td>\n",
       "    </tr>\n",
       "    <tr>\n",
       "      <th>4</th>\n",
       "      <td>Truck</td>\n",
       "    </tr>\n",
       "  </tbody>\n",
       "</table>\n",
       "</div>"
      ],
      "text/plain": [
       "  Car_Type\n",
       "0    Sedan\n",
       "1    sedan\n",
       "2      SUV\n",
       "3      suv\n",
       "4    Truck"
      ]
     },
     "execution_count": 1,
     "metadata": {},
     "output_type": "execute_result"
    }
   ],
   "source": [
    "# 1️⃣ Check Unique Values in a Categorical Column\n",
    "# Use .unique() or .value_counts() to find inconsistencies:\n",
    "\n",
    "import pandas as pd\n",
    "\n",
    "# Sample dataset with inconsistent categories\n",
    "data = {'Car_Type': ['Sedan', 'sedan', 'SUV', 'suv', 'Truck', 'truk', 'Hatchback', 'HATCHBACK']}\n",
    "df = pd.DataFrame(data)\n",
    "df.head()\n"
   ]
  },
  {
   "cell_type": "code",
   "execution_count": 18,
   "metadata": {},
   "outputs": [
    {
     "name": "stdout",
     "output_type": "stream",
     "text": [
      "Unique categories: ['Sedan' 'sedan' 'SUV' 'suv' 'Truck' 'truk' 'Hatchback' 'HATCHBACK']\n"
     ]
    }
   ],
   "source": [
    "# Check unique values\n",
    "print(\"Unique categories:\", df['Car_Type'].unique())"
   ]
  },
  {
   "cell_type": "code",
   "execution_count": 19,
   "metadata": {},
   "outputs": [
    {
     "name": "stdout",
     "output_type": "stream",
     "text": [
      "Car_Type\n",
      "Sedan        1\n",
      "sedan        1\n",
      "SUV          1\n",
      "suv          1\n",
      "Truck        1\n",
      "truk         1\n",
      "Hatchback    1\n",
      "HATCHBACK    1\n",
      "Name: count, dtype: int64\n"
     ]
    }
   ],
   "source": [
    "# Count occurrences of each category\n",
    "print(df['Car_Type'].value_counts())\n",
    "# ✅ This helps find inconsistencies like case differences (\"Sedan\" vs. \"sedan\")\n",
    "#  and typos (\"truk\" instead of \"Truck\")."
   ]
  },
  {
   "cell_type": "markdown",
   "metadata": {},
   "source": [
    "* Step 2: Standardize Categories"
   ]
  },
  {
   "cell_type": "code",
   "execution_count": 20,
   "metadata": {},
   "outputs": [],
   "source": [
    "# 1️⃣ Convert to Lowercase for Uniformity\n",
    "# To avoid case differences, convert all values to lowercase:\n",
    "df['Car_Type'] = df['Car_Type'].str.lower()\n",
    "# ✅ Now \"Sedan\" and \"sedan\" are treated the same."
   ]
  },
  {
   "cell_type": "code",
   "execution_count": 23,
   "metadata": {},
   "outputs": [],
   "source": [
    "# 2️⃣ Correct Typos Using a Dictionary (Manual Mapping)\n",
    "# If there are common misspellings, replace them with correct values:\n",
    "\n",
    "category_mapping = {\n",
    "    'sedan': 'Sedan',\n",
    "    'suv': 'SUV',\n",
    "    'truk': 'Truck',  # Fixing typo\n",
    "    'hatchback': 'Hatchback',\n",
    "    'truck': 'Truck'\n",
    "}\n",
    "\n",
    "df['Car_Type'] = df['Car_Type'].replace(category_mapping)\n",
    "# ✅ This ensures all values are standardized correctly."
   ]
  },
  {
   "cell_type": "code",
   "execution_count": 24,
   "metadata": {},
   "outputs": [
    {
     "data": {
      "text/plain": [
       "array(['Sedan', 'SUV', 'Truck', 'Hatchback'], dtype=object)"
      ]
     },
     "execution_count": 24,
     "metadata": {},
     "output_type": "execute_result"
    }
   ],
   "source": [
    "df[\"Car_Type\"].unique()"
   ]
  },
  {
   "cell_type": "code",
   "execution_count": 26,
   "metadata": {},
   "outputs": [
    {
     "data": {
      "text/plain": [
       "Car_Type\n",
       "Sedan        2\n",
       "SUV          2\n",
       "Truck        2\n",
       "Hatchback    2\n",
       "Name: count, dtype: int64"
      ]
     },
     "execution_count": 26,
     "metadata": {},
     "output_type": "execute_result"
    }
   ],
   "source": [
    "df[\"Car_Type\"].value_counts()"
   ]
  },
  {
   "cell_type": "code",
   "execution_count": 25,
   "metadata": {},
   "outputs": [
    {
     "data": {
      "text/plain": [
       "(8, 1)"
      ]
     },
     "execution_count": 25,
     "metadata": {},
     "output_type": "execute_result"
    }
   ],
   "source": [
    "df.shape"
   ]
  },
  {
   "cell_type": "code",
   "execution_count": null,
   "metadata": {},
   "outputs": [],
   "source": [
    "#3️⃣ Use Fuzzy Matching for Similar Words (For Large Datasets)\n",
    "#If the dataset is large and has many typos, use fuzzy matching to find similar words:\n",
    "\n",
    "from fuzzywuzzy import process\n",
    "\n",
    "# Define correct categories\n",
    "correct_categories = [\"Sedan\", \"SUV\", \"Truck\", \"Hatchback\"]\n",
    "\n",
    "# Function to match and correct category names\n",
    "def correct_category(value):\n",
    "    return process.extractOne(value, correct_categories)[0]  # Find best match\n",
    "\n",
    "df['Car_Type'] = df['Car_Type'].apply(correct_category)\n",
    "#✅ This automatically fixes typos and standardizes categories."
   ]
  },
  {
   "cell_type": "code",
   "execution_count": null,
   "metadata": {},
   "outputs": [],
   "source": []
  },
  {
   "cell_type": "code",
   "execution_count": null,
   "metadata": {},
   "outputs": [],
   "source": []
  },
  {
   "cell_type": "code",
   "execution_count": null,
   "metadata": {},
   "outputs": [],
   "source": []
  },
  {
   "cell_type": "code",
   "execution_count": null,
   "metadata": {},
   "outputs": [],
   "source": []
  }
 ],
 "metadata": {
  "kernelspec": {
   "display_name": "Python 3",
   "language": "python",
   "name": "python3"
  },
  "language_info": {
   "codemirror_mode": {
    "name": "ipython",
    "version": 3
   },
   "file_extension": ".py",
   "mimetype": "text/x-python",
   "name": "python",
   "nbconvert_exporter": "python",
   "pygments_lexer": "ipython3",
   "version": "3.13.0"
  }
 },
 "nbformat": 4,
 "nbformat_minor": 2
}
